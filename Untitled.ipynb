{
 "cells": [
  {
   "cell_type": "code",
   "execution_count": 2,
   "metadata": {
    "collapsed": true
   },
   "outputs": [],
   "source": [
    "import pandas as pd\n",
    "import numpy as np\n",
    "import matplotlib.pyplot as plt\n",
    "import sklearn.cross_validation as CV\n",
    "from sklearn.feature_extraction import DictVectorizer as DV\n",
    "from datetime import date\n",
    "from sklearn import linear_model as LM\n",
    "import seaborn as sns\n",
    "%matplotlib inline"
   ]
  },
  {
   "cell_type": "code",
   "execution_count": 3,
   "metadata": {
    "collapsed": true
   },
   "outputs": [],
   "source": [
    "# read data\n",
    "data = pd.read_csv('test.csv',index_col='Id')"
   ]
  },
  {
   "cell_type": "code",
   "execution_count": 19,
   "metadata": {
    "collapsed": false
   },
   "outputs": [
    {
     "name": "stdout",
     "output_type": "stream",
     "text": [
      "count    1459.000000\n",
      "mean        1.744345\n",
      "std        30.491646\n",
      "min         0.000000\n",
      "25%         0.000000\n",
      "50%         0.000000\n",
      "75%         0.000000\n",
      "max       800.000000\n",
      "Name: PoolArea, dtype: float64\n",
      "****\n",
      "non-zero elements\n",
      "Id\n",
      "1975    144\n",
      "2421    368\n",
      "2504    444\n",
      "2574    228\n",
      "2600    561\n",
      "2711    800\n",
      "Name: PoolArea, dtype: int64\n"
     ]
    }
   ],
   "source": [
    "print data['PoolArea'].describe()\n",
    "print '****'\n",
    "print 'non-zero elements'\n",
    "print data.PoolArea[data.PoolArea !=0]"
   ]
  },
  {
   "cell_type": "code",
   "execution_count": 22,
   "metadata": {
    "collapsed": false
   },
   "outputs": [
    {
     "name": "stdout",
     "output_type": "stream",
     "text": [
      "count     1459.000000\n",
      "mean      9819.161069\n",
      "std       4955.517327\n",
      "min       1470.000000\n",
      "25%       7391.000000\n",
      "50%       9399.000000\n",
      "75%      11517.500000\n",
      "max      56600.000000\n",
      "Name: LotArea, dtype: float64\n",
      "****\n",
      "non-zero elements\n",
      "Id\n",
      "2251    56600\n",
      "2264    51974\n",
      "2901    50102\n",
      "Name: LotArea, dtype: int64\n"
     ]
    }
   ],
   "source": [
    "print data['LotArea'].describe()\n",
    "print '****'\n",
    "print 'non-zero elements'\n",
    "print data.LotArea[data.LotArea >= 50000]"
   ]
  },
  {
   "cell_type": "code",
   "execution_count": 4,
   "metadata": {
    "collapsed": false
   },
   "outputs": [
    {
     "name": "stdout",
     "output_type": "stream",
     "text": [
      "count     1459\n",
      "unique       2\n",
      "top          Y\n",
      "freq      1358\n",
      "Name: CentralAir, dtype: object\n"
     ]
    }
   ],
   "source": [
    "print data['CentralAir'].describe()"
   ]
  },
  {
   "cell_type": "code",
   "execution_count": null,
   "metadata": {
    "collapsed": true
   },
   "outputs": [],
   "source": []
  }
 ],
 "metadata": {
  "kernelspec": {
   "display_name": "Python 2",
   "language": "python",
   "name": "python2"
  },
  "language_info": {
   "codemirror_mode": {
    "name": "ipython",
    "version": 2
   },
   "file_extension": ".py",
   "mimetype": "text/x-python",
   "name": "python",
   "nbconvert_exporter": "python",
   "pygments_lexer": "ipython2",
   "version": "2.7.12"
  }
 },
 "nbformat": 4,
 "nbformat_minor": 0
}
