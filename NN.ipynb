{
 "cells": [
  {
   "cell_type": "code",
   "execution_count": 1,
   "metadata": {
    "collapsed": false
   },
   "outputs": [],
   "source": [
    "import pandas as pd\n",
    "import numpy as np\n",
    "import matplotlib.pyplot as plt\n",
    "import sklearn.cross_validation as CV\n",
    "from sklearn.feature_extraction import DictVectorizer as DV\n",
    "from datetime import date\n",
    "from sklearn import linear_model as LM\n",
    "\n",
    "%matplotlib inline"
   ]
  },
  {
   "cell_type": "markdown",
   "metadata": {},
   "source": [
    "## Define score function"
   ]
  },
  {
   "cell_type": "code",
   "execution_count": 2,
   "metadata": {
    "collapsed": false
   },
   "outputs": [],
   "source": [
    "def myScore(y, y_pred):\n",
    "    yLog = np.log(y);\n",
    "    ind = np.isinf(yLog);\n",
    "    yLog[ind == True] = 0;    \n",
    "    \n",
    "    y_predLog = np.log(y_pred);\n",
    "    ind = np.isinf(y_predLog);\n",
    "    y_predLog[ind == True] = 0;\n",
    "    \n",
    "    summ = np.sum(np.power(yLog-y_predLog,2))     \n",
    "    return np.sqrt(summ/y.shape[0]);\n",
    "\n",
    "# replace qualitative estimation to number\n",
    "def replaceQualVal(dataSet,fNameList):\n",
    "    # dictionary of values\n",
    "    vocab = {\n",
    "        'Ex': 5, 'EX': 5, # excellent    \n",
    "        'Gd': 4, 'GD': 4, # good\n",
    "        'TA': 3, 'Ta': 3, # normal\n",
    "        'FA': 2, 'Fa': 2, # fair\n",
    "        'PO': 1, 'Po': 1  # \n",
    "        }\n",
    "    \n",
    "    for fName in fNameList:\n",
    "        \n",
    "        # replace stings to numbers\n",
    "        for word in vocab:\n",
    "            searchDict = {fName:[word]};\n",
    "            X = dataSet.isin(searchDict);\n",
    "            dataSet.loc[X[fName],fName] = vocab[word];\n",
    "        \n",
    "        # convert to numeric type\n",
    "        dataSet[[fName]] = dataSet[[fName]].apply(pd.to_numeric);\n",
    "    return dataSet;    \n",
    "# end of function    "
   ]
  },
  {
   "cell_type": "code",
   "execution_count": 3,
   "metadata": {
    "collapsed": false
   },
   "outputs": [
    {
     "data": {
      "image/png": "[encoded data removed]",
      "text/plain": [
       "<matplotlib.figure.Figure at 0xa9f3d68>"
      ]
     },
     "metadata": {},
     "output_type": "display_data"
    }
   ],
   "source": [
    "data = pd.read_csv('train.csv',index_col='Id')\n",
    "features = data.drop('SalePrice',axis = 1)\n",
    "price = data.SalePrice\n",
    "plt.hist(price,bins = 100)\n",
    "plt.xlabel('Price')\n",
    "plt.ylabel('Counts')\n",
    "plt.title('Price distribution')\n",
    "plt.show()"
   ]
  },
  {
   "cell_type": "markdown",
   "metadata": {},
   "source": [
    "## Create folds and trees "
   ]
  },
  {
   "cell_type": "code",
   "execution_count": 4,
   "metadata": {
    "collapsed": false
   },
   "outputs": [],
   "source": [
    "folds = CV.KFold(price.size, n_folds=5, random_state = 43);\n",
    "shuffle = CV.ShuffleSplit(price.size, n_iter=3, test_size=0.33, random_state=43)"
   ]
  },
  {
   "cell_type": "code",
   "execution_count": 5,
   "metadata": {
    "collapsed": false
   },
   "outputs": [
    {
     "name": "stderr",
     "output_type": "stream",
     "text": [
      "D:\\Anaconda\\lib\\site-packages\\pandas\\core\\indexing.py:461: SettingWithCopyWarning: \n",
      "A value is trying to be set on a copy of a slice from a DataFrame.\n",
      "Try using .loc[row_indexer,col_indexer] = value instead\n",
      "\n",
      "See the caveats in the documentation: http://pandas.pydata.org/pandas-docs/stable/indexing.html#indexing-view-versus-copy\n",
      "  self.obj[item] = s\n",
      "D:\\Anaconda\\lib\\site-packages\\pandas\\core\\indexing.py:284: SettingWithCopyWarning: \n",
      "A value is trying to be set on a copy of a slice from a DataFrame.\n",
      "Try using .loc[row_indexer,col_indexer] = value instead\n",
      "\n",
      "See the caveats in the documentation: http://pandas.pydata.org/pandas-docs/stable/indexing.html#indexing-view-versus-copy\n",
      "  self.obj[key] = _infer_fill_value(value)\n",
      "D:\\Anaconda\\lib\\site-packages\\pandas\\core\\frame.py:2756: SettingWithCopyWarning: \n",
      "A value is trying to be set on a copy of a slice from a DataFrame\n",
      "\n",
      "See the caveats in the documentation: http://pandas.pydata.org/pandas-docs/stable/indexing.html#indexing-view-versus-copy\n",
      "  downcast=downcast, **kwargs)\n"
     ]
    }
   ],
   "source": [
    "-"
   ]
  },
  {
   "cell_type": "code",
   "execution_count": 6,
   "metadata": {
    "collapsed": false
   },
   "outputs": [
    {
     "name": "stdout",
     "output_type": "stream",
     "text": [
      "(1460L, 264L)\n"
     ]
    }
   ],
   "source": [
    "Sz = transFeatures.shape\n",
    "print Sz"
   ]
  },
  {
   "cell_type": "markdown",
   "metadata": {},
   "source": [
    "## Create neural network"
   ]
  },
  {
   "cell_type": "code",
   "execution_count": 7,
   "metadata": {
    "collapsed": true
   },
   "outputs": [],
   "source": [
    "from pybrain.datasets            import SupervisedDataSet\n",
    "from pybrain.utilities           import percentError\n",
    "from pybrain.tools.shortcuts     import buildNetwork\n",
    "from pybrain.supervised.trainers import BackpropTrainer\n",
    "from pybrain.structure.modules   import SoftmaxLayer\n",
    "from pybrain.structure           import LinearLayer, SigmoidLayer, FeedForwardNetwork, FullConnection\n",
    "\n",
    "from pylab                       import ion, ioff, figure, draw, contourf, clf, show, hold, plot\n",
    "from scipy                       import diag, arange, meshgrid, where\n",
    "from numpy.random                import multivariate_normal"
   ]
  },
  {
   "cell_type": "markdown",
   "metadata": {},
   "source": [
    "## Create and fill up the dataset"
   ]
  },
  {
   "cell_type": "code",
   "execution_count": 8,
   "metadata": {
    "collapsed": false
   },
   "outputs": [],
   "source": [
    "alldata = SupervisedDataSet(Sz[1], 1)\n",
    "\n",
    "for n in xrange(Sz[0]):\n",
    "    fts = transFeatures[n,:];\n",
    "    alldata.addSample(fts, price.values[n]);\n",
    "\n",
    "alldata.saveToFile('NNdataset.dat')    "
   ]
  },
  {
   "cell_type": "markdown",
   "metadata": {},
   "source": [
    "## Create a neural network"
   ]
  },
  {
   "cell_type": "code",
   "execution_count": 9,
   "metadata": {
    "collapsed": false
   },
   "outputs": [
    {
     "name": "stdout",
     "output_type": "stream",
     "text": [
      "Number of training patterns:  1095\n",
      "Input and output dimensions:  264 1\n"
     ]
    }
   ],
   "source": [
    "tstdata, trndata = alldata.splitWithProportion( 0.25 )\n",
    "print \"Number of training patterns: \", len(trndata)\n",
    "print \"Input and output dimensions: \", trndata.indim, trndata.outdim"
   ]
  },
  {
   "cell_type": "code",
   "execution_count": 10,
   "metadata": {
    "collapsed": false
   },
   "outputs": [
    {
     "name": "stdout",
     "output_type": "stream",
     "text": [
      "FeedForwardNetwork-6\n",
      "   Modules:\n",
      "    [<LinearLayer 'LinearLayer-3'>, <SigmoidLayer 'SigmoidLayer-7'>, <LinearLayer 'LinearLayer-8'>]\n",
      "   Connections:\n",
      "    [<FullConnection 'FullConnection-4': 'SigmoidLayer-7' -> 'LinearLayer-8'>, <FullConnection 'FullConnection-5': 'LinearLayer-3' -> 'SigmoidLayer-7'>]\n",
      "\n"
     ]
    }
   ],
   "source": [
    "n = FeedForwardNetwork();\n",
    "inLayer = LinearLayer(Sz[1])\n",
    "hiddenLayer = SigmoidLayer(Sz[1])\n",
    "outLayer = LinearLayer(1)\n",
    "\n",
    "n.addInputModule(inLayer)\n",
    "n.addModule(hiddenLayer)\n",
    "n.addOutputModule(outLayer)\n",
    "\n",
    "in_to_hidden = FullConnection(inLayer, hiddenLayer)\n",
    "hidden_to_out = FullConnection(hiddenLayer, outLayer)\n",
    "\n",
    "n.addConnection(in_to_hidden)\n",
    "n.addConnection(hidden_to_out)\n",
    "\n",
    "n.sortModules()\n",
    "print n"
   ]
  },
  {
   "cell_type": "code",
   "execution_count": null,
   "metadata": {
    "collapsed": false
   },
   "outputs": [
    {
     "name": "stdout",
     "output_type": "stream",
     "text": [
      "Total error:  8504383374.89\n",
      "Total error:  8088253127.68\n",
      "Total error:  8122014065.6\n",
      "Total error:  8145623927.58\n",
      "Total error:  7559157951.97\n",
      "Total error:  8134680825.76\n",
      "Total error:  7903753933.12\n",
      "Total error:  7824313102.18\n",
      "Total error:  8685664490.08\n",
      "Total error:  8210315038.48\n",
      "Total error:  7982017706.44\n",
      "Total error:  7972229803.96\n",
      "Total error:  8691832122.79\n",
      "Total error:  8518308685.53\n",
      "Total error:  8778394988.11\n",
      "Total error:  8339887813.28\n",
      "Total error:  8751609905.38\n",
      "Total error:  8245399752.19\n",
      "Total error:  8775707000.07\n",
      "Total error:  7767185495.27\n",
      "Total error:  7872850996.55\n",
      "Total error:  7894261913.73\n",
      "Total error:  8233336592.42\n",
      "Total error:  7948371167.94\n",
      "Total error:  8356479789.36\n",
      "Total error:  7902181806.09\n",
      "Total error:  8032161676.58\n",
      "Total error:  7838732304.24\n",
      "Total error:  8224668975.17\n",
      "Total error:  8196560750.95\n",
      "Total error:  7964924216.2\n",
      "Total error:  7865735204.82\n",
      "Total error:  7771522577.5\n",
      "Total error:  7904882888.98\n",
      "Total error:  7793020547.65\n",
      "Total error:  7968939926.23\n",
      "Total error:  7609407820.32\n",
      "Total error:  7273433634.27\n",
      "Total error:  8193863340.58\n",
      "Total error:  7393038450.94\n",
      "Total error:  8242306102.01\n",
      "Total error:  7645519444.72\n",
      "Total error:  7695642178.02\n"
     ]
    }
   ],
   "source": [
    "trainer = BackpropTrainer(n, dataset=trndata, momentum=0.1, verbose=True, weightdecay=0.01)\n",
    "n_res = trainer.trainUntilConvergence(verbose = 1,maxEpochs=1000);\n",
    "\n",
    "x = n.activateOnDataset(tstdata);\n",
    "plt.plot(x)"
   ]
  },
  {
   "cell_type": "code",
   "execution_count": null,
   "metadata": {
    "collapsed": true
   },
   "outputs": [],
   "source": []
  }
 ],
 "metadata": {
  "kernelspec": {
   "display_name": "Python 2",
   "language": "python",
   "name": "python2"
  },
  "language_info": {
   "codemirror_mode": {
    "name": "ipython",
    "version": 2
   },
   "file_extension": ".py",
   "mimetype": "text/x-python",
   "name": "python",
   "nbconvert_exporter": "python",
   "pygments_lexer": "ipython2",
   "version": "2.7.12"
  }
 },
 "nbformat": 4,
 "nbformat_minor": 0
}
