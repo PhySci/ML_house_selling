{
 "cells": [
  {
   "cell_type": "code",
   "execution_count": 15,
   "metadata": {
    "collapsed": false
   },
   "outputs": [],
   "source": [
    "import pandas as pd\n",
    "import numpy as np\n",
    "import matplotlib.pyplot as plt\n",
    "import sklearn.cross_validation as CV\n",
    "from sklearn.ensemble import GradientBoostingRegressor as GBR\n",
    "from sklearn.feature_extraction import DictVectorizer as DV\n",
    "from datetime import date\n",
    "import seaborn as sns\n",
    "from sklearn import linear_model as LM\n",
    "\n",
    "%matplotlib inline"
   ]
  },
  {
   "cell_type": "code",
   "execution_count": 16,
   "metadata": {
    "collapsed": false
   },
   "outputs": [],
   "source": [
    "data = pd.read_csv('train.csv',index_col='Id')\n",
    "features = data.drop('SalePrice',axis = 1)\n",
    "price = data.SalePrice"
   ]
  },
  {
   "cell_type": "markdown",
   "metadata": {},
   "source": [
    "## Define functions"
   ]
  },
  {
   "cell_type": "code",
   "execution_count": 17,
   "metadata": {
    "collapsed": false
   },
   "outputs": [],
   "source": [
    "# define regressor\n",
    "trees = GBR(verbose = 0, n_estimators = 1000, max_depth = 3);\n",
    "LCV = LM.LassoLarsCV(verbose=True, max_iter=1000, normalize=True, cv=3, n_jobs=8)\n",
    "# define cross-validation folds\n",
    "nFolds = 10;\n",
    "folds = CV.KFold(price.size, n_folds=nFolds, random_state = 43);"
   ]
  },
  {
   "cell_type": "code",
   "execution_count": 18,
   "metadata": {
    "collapsed": false
   },
   "outputs": [],
   "source": [
    "def myScore(y, y_pred):\n",
    "    res = np.ndarray([1,2]);\n",
    "    u = (np.power((y-y_pred),2)).sum();\n",
    "    v = (np.power((y-y.mean()),2)).sum();\n",
    "    res[0,0] = 1-(u/v);\n",
    "\n",
    "    \n",
    "    yLog = np.log(y);\n",
    "    ind = np.isinf(yLog);\n",
    "    yLog[ind == True] = 0; \n",
    "    y_predLog = np.log(y_pred);\n",
    "    ind = np.isinf(y_predLog);\n",
    "    y_predLog[ind == True] = 0;   \n",
    "    summ = np.sum(np.power(yLog-y_predLog,2))\n",
    "    res[0,1] = np.sqrt(summ/y.shape[0]);\n",
    "\n",
    "    return res\n",
    "\n",
    "# replace qualitative estimation to number\n",
    "def replaceQualVal(dataSet,fNameList):\n",
    "    # dictionary of values\n",
    "    vocab = {\n",
    "        'Ex': 5, 'EX': 5, # excellent    \n",
    "        'Gd': 4, 'GD': 4, # good\n",
    "        'TA': 3, 'Ta': 3, # normal\n",
    "        'FA': 2, 'Fa': 2, # fair\n",
    "        'PO': 1, 'Po': 1  # \n",
    "        }\n",
    "    \n",
    "    for fName in fNameList:\n",
    "        \n",
    "        # replace stings to numbers\n",
    "        for word in vocab:\n",
    "            searchDict = {fName:[word]};\n",
    "            X = dataSet.isin(searchDict);\n",
    "            dataSet.loc[X[fName],fName] = vocab[word];\n",
    "        \n",
    "        # convert to numeric type\n",
    "        dataSet[[fName]] = dataSet[[fName]].apply(pd.to_numeric);\n",
    "    return dataSet;\n",
    "\n",
    "# replace YN estimation to number\n",
    "def replaceYNVal(dataSet,fNameList):\n",
    "    # dictionary of values\n",
    "    vocab = {\n",
    "        'Yes': 1, 'Y': 5, # yes\n",
    "        'No': 1, 'N': 1  # no\n",
    "        }\n",
    "    \n",
    "    for fName in fNameList:\n",
    "        \n",
    "        # replace stings to numbers\n",
    "        for word in vocab:\n",
    "            searchDict = {fName:[word]};\n",
    "            X = dataSet.isin(searchDict);\n",
    "            dataSet.loc[X[fName],fName] = vocab[word];\n",
    "        \n",
    "        # convert to numeric type\n",
    "        dataSet[[fName]] = dataSet[[fName]].apply(pd.to_numeric);\n",
    "    return dataSet;\n",
    "\n",
    "# main fit function\n",
    "def fitData(folds,regressor,features):\n",
    "    \n",
    "    \n",
    "    num_features = features.select_dtypes(exclude=['object']);\n",
    "    num_features.fillna(0,inplace=True);\n",
    "    \n",
    "    obj_features = features.select_dtypes(include=['object']);\n",
    "    obj_features.fillna('empty',inplace=True)\n",
    "    \n",
    "    encoder = DV(sparse = False);\n",
    "    encoded_data = encoder.fit_transform(obj_features.T.to_dict().values());\n",
    "    \n",
    "    newFeatures = np.hstack([num_features, encoded_data]);\n",
    "\n",
    "    score = np.empty([1,2]);\n",
    "    \n",
    "    for [trainInds, testInds] in folds:\n",
    "        regressor.fit(newFeatures[trainInds,:],price[trainInds]);\n",
    "        y_pr = regressor.predict(newFeatures[testInds,:]);\n",
    "        pr = myScore(price[testInds],y_pr);\n",
    "        print pr\n",
    "        score =  np.append(score,pr,axis = 0);\n",
    "    \n",
    "    score = np.delete(score,0,0);\n",
    "    return score"
   ]
  },
  {
   "cell_type": "code",
   "execution_count": 21,
   "metadata": {
    "collapsed": false
   },
   "outputs": [
    {
     "name": "stdout",
     "output_type": "stream",
     "text": [
      "[[ 0.91438559  0.12380927]]\n",
      "[[ 0.91281883  0.10285554]]\n",
      "[[ 0.94356409  0.10448896]]\n",
      "[[ 0.79736156  0.1564697 ]]\n",
      "[[ 0.91222629  0.14623502]]\n",
      "[[ 0.90966499  0.10611231]]\n",
      "[[ 0.89389755  0.11895977]]\n",
      "[[ 0.91714323  0.10801117]]\n",
      "[[ 0.91150383  0.10938227]]\n",
      "[[ 0.89046144  0.13161703]]\n"
     ]
    }
   ],
   "source": [
    "features = data.drop('SalePrice',axis = 1)\n",
    "price = data['SalePrice'].get_values()\n",
    "\n",
    "features[\"OverallQualLog\"]=np.log(features[\"OverallQual\"])\n",
    "features.drop(['OverallQual'],axis = 1,inplace = True);\n",
    "\n",
    "# drop heating type\n",
    "#features.drop('Heating',axis = 1,inplace = True);\n",
    "#features.drop(['MoSold', 'YrSold'],axis = 1,inplace = True);\n",
    "\n",
    "\n",
    "#featureList = {'ExterQual','ExterCond','BsmtQual','BsmtCond','PoolQC','HeatingQC','KitchenQual','GarageQual',\n",
    "#               'GarageCond','FireplaceQu','PoolQC'};\n",
    "\n",
    "#features = replaceQualVal(features,featureList)\n",
    "\n",
    "# process GarageYrBlt\n",
    "empty = pd.isnull(features['GarageYrBlt']);\n",
    "ind = empty[empty == True].index;\n",
    "features.loc[ind.values,'GarageYrBlt'] = features.loc[ind.values,'YearBuilt'];\n",
    "\n",
    "# add new feature\n",
    "features.loc[:,'houseAgeLog'] = np.log(date.today().year - features.loc[:,'YearBuilt']);\n",
    "features.loc[:,'garageAgeLog'] = np.log(date.today().year - features.loc[:,'GarageYrBlt']);\n",
    "features.loc[:,'remodeAge'] = features.loc[:,'YearRemodAdd'] - features.loc[:,'YearBuilt'];\n",
    "\n",
    "x =  fitData(folds,trees,features)"
   ]
  },
  {
   "cell_type": "code",
   "execution_count": 23,
   "metadata": {
    "collapsed": false
   },
   "outputs": [
    {
     "name": "stdout",
     "output_type": "stream",
     "text": [
      "[[ 0.91510767  0.12755333]]\n",
      "[[ 0.90256154  0.10731064]]\n",
      "[[ 0.94011479  0.10683785]]\n",
      "[[ 0.81872802  0.15226835]]\n",
      "[[ 0.90911561  0.14937211]]\n",
      "[[ 0.89906294  0.10553723]]\n",
      "[[ 0.87602797  0.12419803]]\n",
      "[[ 0.9199295   0.11092777]]\n",
      "[[ 0.90341931  0.11406815]]\n",
      "[[ 0.88878293  0.13026566]]\n",
      "[ 0.89728503  0.12283391]\n"
     ]
    }
   ],
   "source": [
    "features = data.drop('SalePrice',axis = 1)\n",
    "price = data['SalePrice'].get_values()\n",
    "\n",
    "features[\"OverallQualLog\"]=np.log(features[\"OverallQual\"])\n",
    "features.drop(['OverallQual'],axis = 1,inplace = True);\n",
    "\n",
    "# drop heating type\n",
    "#features.drop('Heating',axis = 1,inplace = True);\n",
    "#features.drop(['MoSold', 'YrSold'],axis = 1,inplace = True);\n",
    "\n",
    "\n",
    "featureList = {'ExterQual','ExterCond','BsmtQual','BsmtCond','PoolQC','HeatingQC','KitchenQual','GarageQual',\n",
    "               'GarageCond','FireplaceQu','PoolQC'};\n",
    "\n",
    "features = replaceQualVal(features,featureList);\n",
    "\n",
    "# process GarageYrBlt\n",
    "empty = pd.isnull(features['GarageYrBlt']);\n",
    "ind = empty[empty == True].index;\n",
    "features.loc[ind.values,'GarageYrBlt'] = features.loc[ind.values,'YearBuilt'];\n",
    "\n",
    "# add new feature\n",
    "features.loc[:,'houseAgeLog'] = np.log(date.today().year - features.loc[:,'YearBuilt']);\n",
    "features.loc[:,'garageAgeLog'] = np.log(date.today().year - features.loc[:,'GarageYrBlt']);\n",
    "features.loc[:,'remodeAge'] = features.loc[:,'YearRemodAdd'] - features.loc[:,'YearBuilt'];\n",
    "\n",
    "x =  fitData(folds,trees,features)\n",
    "print x.mean(axis = 0)"
   ]
  },
  {
   "cell_type": "code",
   "execution_count": 24,
   "metadata": {
    "collapsed": false
   },
   "outputs": [
    {
     "name": "stdout",
     "output_type": "stream",
     "text": [
      "[[ 0.91580484  0.12268663]]\n",
      "[[ 0.9049199   0.10658749]]\n",
      "[[ 0.94396816  0.10356922]]\n",
      "[[ 0.81193743  0.15446416]]\n",
      "[[ 0.91333141  0.14643806]]\n",
      "[[ 0.90884423  0.10743274]]\n",
      "[[ 0.89353934  0.11878443]]\n",
      "[[ 0.91628188  0.10875817]]\n",
      "[[ 0.90480308  0.11558342]]\n",
      "[[ 0.89012335  0.13187929]]\n",
      "[ 0.90035536  0.12161836]\n"
     ]
    }
   ],
   "source": [
    "features = data.drop('SalePrice',axis = 1)\n",
    "price = data['SalePrice'].get_values()\n",
    "\n",
    "#features[\"OverallQualLog\"]=np.log(features[\"OverallQual\"])\n",
    "#features.drop(['OverallQual'],axis = 1,inplace = True);\n",
    "\n",
    "# drop heating type\n",
    "#features.drop('Heating',axis = 1,inplace = True);\n",
    "#features.drop(['MoSold', 'YrSold'],axis = 1,inplace = True);\n",
    "\n",
    "\n",
    "#featureList = {'ExterQual','ExterCond','BsmtQual','BsmtCond','PoolQC','HeatingQC','KitchenQual','GarageQual',\n",
    "#               'GarageCond','FireplaceQu','PoolQC'};\n",
    "#features = replaceQualVal(features,featureList);\n",
    "\n",
    "# process GarageYrBlt\n",
    "empty = pd.isnull(features['GarageYrBlt']);\n",
    "ind = empty[empty == True].index;\n",
    "features.loc[ind.values,'GarageYrBlt'] = features.loc[ind.values,'YearBuilt'];\n",
    "\n",
    "# add new feature\n",
    "features.loc[:,'houseAgeLog'] = np.log(date.today().year - features.loc[:,'YearBuilt']);\n",
    "features.loc[:,'garageAgeLog'] = np.log(date.today().year - features.loc[:,'GarageYrBlt']);\n",
    "features.loc[:,'remodeAge'] = features.loc[:,'YearRemodAdd'] - features.loc[:,'YearBuilt'];\n",
    "\n",
    "x =  fitData(folds,trees,features)\n",
    "print x.mean(axis = 0)"
   ]
  },
  {
   "cell_type": "code",
   "execution_count": 25,
   "metadata": {
    "collapsed": false
   },
   "outputs": [
    {
     "name": "stdout",
     "output_type": "stream",
     "text": [
      "[[ 0.91489362  0.12411117]]\n",
      "[[ 0.91192678  0.1033334 ]]\n",
      "[[ 0.94250653  0.10382731]]\n",
      "[[ 0.80387087  0.15671011]]\n",
      "[[ 0.91282188  0.14638181]]\n",
      "[[ 0.90534239  0.10765998]]\n",
      "[[ 0.86986802  0.12225345]]\n",
      "[[ 0.91693255  0.10663559]]\n",
      "[[ 0.90835471  0.11227302]]\n",
      "[[ 0.88849678  0.13241717]]\n",
      "[ 0.89750141  0.1215603 ]\n"
     ]
    }
   ],
   "source": [
    "features = data.drop('SalePrice',axis = 1)\n",
    "price = data['SalePrice'].get_values()\n",
    "\n",
    "#features[\"OverallQualLog\"]=np.log(features[\"OverallQual\"])\n",
    "#features.drop(['OverallQual'],axis = 1,inplace = True);\n",
    "\n",
    "# drop heating type\n",
    "#features.drop('Heating',axis = 1,inplace = True);\n",
    "#features.drop(['MoSold', 'YrSold'],axis = 1,inplace = True);\n",
    "\n",
    "\n",
    "#featureList = {'ExterQual','ExterCond','BsmtQual','BsmtCond','PoolQC','HeatingQC','KitchenQual','GarageQual',\n",
    "#               'GarageCond','FireplaceQu','PoolQC'};\n",
    "#features = replaceQualVal(features,featureList);\n",
    "features = replaceYNVal(features,{'CentralAir'})\n",
    "\n",
    "# process GarageYrBlt\n",
    "empty = pd.isnull(features['GarageYrBlt']);\n",
    "ind = empty[empty == True].index;\n",
    "features.loc[ind.values,'GarageYrBlt'] = features.loc[ind.values,'YearBuilt'];\n",
    "\n",
    "# add new feature\n",
    "features.loc[:,'houseAgeLog'] = np.log(date.today().year - features.loc[:,'YearBuilt']);\n",
    "features.loc[:,'garageAgeLog'] = np.log(date.today().year - features.loc[:,'GarageYrBlt']);\n",
    "features.loc[:,'remodeAge'] = features.loc[:,'YearRemodAdd'] - features.loc[:,'YearBuilt'];\n",
    "\n",
    "x =  fitData(folds,trees,features)\n",
    "print x.mean(axis = 0)"
   ]
  },
  {
   "cell_type": "code",
   "execution_count": 27,
   "metadata": {
    "collapsed": false
   },
   "outputs": [
    {
     "name": "stdout",
     "output_type": "stream",
     "text": [
      "[[ 0.91355787  0.12884629]]\n",
      "[[ 0.90163002  0.10172934]]\n",
      "[[ 0.94397225  0.10708574]]\n",
      "[[ 0.81183879  0.15565274]]\n",
      "[[ 0.91555687  0.14633661]]\n",
      "[[ 0.87971429  0.11600741]]\n",
      "[[ 0.89565405  0.13035333]]\n",
      "[[ 0.91555968  0.10754252]]\n",
      "[[ 0.90776548  0.11400514]]\n",
      "[[ 0.8934166  0.1312928]]\n",
      "[ 0.89786659  0.12388519]\n"
     ]
    }
   ],
   "source": [
    "features = data.drop('SalePrice',axis = 1)\n",
    "price = data['SalePrice'].get_values()\n",
    "\n",
    "#features[\"OverallQualLog\"]=np.log(features[\"OverallQual\"])\n",
    "#features.drop(['OverallQual'],axis = 1,inplace = True);\n",
    "\n",
    "# drop heating type\n",
    "#features.drop('Heating',axis = 1,inplace = True);\n",
    "#features.drop(['MoSold', 'YrSold'],axis = 1,inplace = True);\n",
    "\n",
    "\n",
    "#featureList = {'ExterQual','ExterCond','BsmtQual','BsmtCond','PoolQC','HeatingQC','KitchenQual','GarageQual',\n",
    "#               'GarageCond','FireplaceQu','PoolQC'};\n",
    "#features = replaceQualVal(features,featureList);\n",
    "features = replaceYNVal(features,{'CentralAir'})\n",
    "\n",
    "features.MSSubClass = features.MSSubClass.astype(str)\n",
    "\n",
    "# process GarageYrBlt\n",
    "empty = pd.isnull(features['GarageYrBlt']);\n",
    "ind = empty[empty == True].index;\n",
    "features.loc[ind.values,'GarageYrBlt'] = features.loc[ind.values,'YearBuilt'];\n",
    "\n",
    "# add new feature\n",
    "features.loc[:,'houseAgeLog'] = np.log(date.today().year - features.loc[:,'YearBuilt']);\n",
    "features.loc[:,'garageAgeLog'] = np.log(date.today().year - features.loc[:,'GarageYrBlt']);\n",
    "features.loc[:,'remodeAge'] = features.loc[:,'YearRemodAdd'] - features.loc[:,'YearBuilt'];\n",
    "\n",
    "x =  fitData(folds,trees,features)\n",
    "print x.mean(axis = 0)"
   ]
  },
  {
   "cell_type": "code",
   "execution_count": 28,
   "metadata": {
    "collapsed": false
   },
   "outputs": [
    {
     "name": "stdout",
     "output_type": "stream",
     "text": [
      "[[ 0.91277276  0.12624833]]\n",
      "[[ 0.90848533  0.10467558]]\n",
      "[[ 0.93939727  0.10860821]]\n",
      "[[ 0.80852084  0.15716208]]\n",
      "[[ 0.9116509   0.14811236]]\n",
      "[[ 0.88767688  0.11276095]]\n",
      "[[ 0.89899489  0.12080899]]\n",
      "[[ 0.91458315  0.1108844 ]]\n",
      "[[ 0.9207974   0.10519171]]\n",
      "[[ 0.89708162  0.1302846 ]]\n",
      "[ 0.8999961   0.12247372]\n"
     ]
    }
   ],
   "source": [
    "features = data.drop('SalePrice',axis = 1)\n",
    "price = data['SalePrice'].get_values()\n",
    "\n",
    "#features[\"OverallQualLog\"]=np.log(features[\"OverallQual\"])\n",
    "#features.drop(['OverallQual'],axis = 1,inplace = True);\n",
    "\n",
    "# drop heating type\n",
    "features.drop('Heating',axis = 1,inplace = True);\n",
    "features.drop(['MoSold', 'YrSold'],axis = 1,inplace = True);\n",
    "\n",
    "\n",
    "#featureList = {'ExterQual','ExterCond','BsmtQual','BsmtCond','PoolQC','HeatingQC','KitchenQual','GarageQual',\n",
    "#               'GarageCond','FireplaceQu','PoolQC'};\n",
    "#features = replaceQualVal(features,featureList);\n",
    "features = replaceYNVal(features,{'CentralAir'})\n",
    "\n",
    "features.drop(['MSSubClass'],axis = 1,inplace = True);\n",
    "\n",
    "# process GarageYrBlt\n",
    "empty = pd.isnull(features['GarageYrBlt']);\n",
    "ind = empty[empty == True].index;\n",
    "features.loc[ind.values,'GarageYrBlt'] = features.loc[ind.values,'YearBuilt'];\n",
    "\n",
    "# add new feature\n",
    "features.loc[:,'houseAgeLog'] = np.log(date.today().year - features.loc[:,'YearBuilt']);\n",
    "features.loc[:,'garageAgeLog'] = np.log(date.today().year - features.loc[:,'GarageYrBlt']);\n",
    "features.loc[:,'remodeAge'] = features.loc[:,'YearRemodAdd'] - features.loc[:,'YearBuilt'];\n",
    "\n",
    "x =  fitData(folds,trees,features)\n",
    "print x.mean(axis = 0)"
   ]
  },
  {
   "cell_type": "code",
   "execution_count": null,
   "metadata": {
    "collapsed": true
   },
   "outputs": [],
   "source": [
    "features = data.drop('SalePrice',axis = 1)\n",
    "price = data['SalePrice'].get_values()\n",
    "\n",
    "\n",
    "#features[\"OverallQualLog\"]=np.log(features[\"OverallQual\"])\n",
    "#features.drop(['OverallQual'],axis = 1,inplace = True);\n",
    "\n",
    "# drop heating type\n",
    "#features.drop('Heating',axis = 1,inplace = True);\n",
    "#features.drop(['MoSold', 'YrSold'],axis = 1,inplace = True);\n",
    "features = replaceYNVal(features,{'CentralAir'});\n",
    "\n",
    "#featureList = {'ExterQual','ExterCond','BsmtQual','BsmtCond','PoolQC','HeatingQC','KitchenQual','GarageQual',\n",
    "#               'GarageCond','FireplaceQu','PoolQC'};\n",
    "#features = replaceQualVal(features,featureList);\n",
    "\n",
    "features.drop(['MSSubClass'],axis = 1,inplace = True);\n",
    "\n",
    "# process GarageYrBlt\n",
    "empty = pd.isnull(features['GarageYrBlt']);\n",
    "ind = empty[empty == True].index;\n",
    "features.loc[ind.values,'GarageYrBlt'] = features.loc[ind.values,'YearBuilt'];\n",
    "\n",
    "# add new feature\n",
    "features.loc[:,'houseAgeLog'] = np.log(date.today().year - features.loc[:,'YearBuilt']);\n",
    "features.loc[:,'garageAgeLog'] = np.log(date.today().year - features.loc[:,'GarageYrBlt']);\n",
    "features.loc[:,'remodeAge'] = features.loc[:,'YearRemodAdd'] - features.loc[:,'YearBuilt'];\n",
    "\n",
    "x =  fitData(folds,trees,features)\n",
    "print x.mean(axis = 0)"
   ]
  },
  {
   "cell_type": "code",
   "execution_count": 11,
   "metadata": {
    "collapsed": false
   },
   "outputs": [
    {
     "name": "stdout",
     "output_type": "stream",
     "text": [
      "[[ 0.91242467  0.12212174]]\n",
      "[[ 0.90610671  0.10618094]]\n",
      "[[ 0.93876018  0.10924176]]\n",
      "[[ 0.80331836  0.15340466]]\n",
      "[[ 0.9108476   0.14945992]]\n",
      "[[ 0.90166046  0.10489809]]\n",
      "[[ 0.89899515  0.12181479]]\n",
      "[[ 0.92171079  0.10876845]]\n",
      "[[ 0.89212069  0.1150673 ]]\n",
      "[[ 0.89072998  0.12848721]]\n",
      "[ 0.89766746  0.12194449]\n"
     ]
    },
    {
     "data": {
      "image/png": "[encoded data removed]",
      "text/plain": [
       "<matplotlib.figure.Figure at 0xbe549b0>"
      ]
     },
     "metadata": {},
     "output_type": "display_data"
    }
   ],
   "source": [
    "features = data.drop('SalePrice',axis = 1)\n",
    "price = data['SalePrice'].get_values()\n",
    "\n",
    "res = np.ndarray([10,2]);\n",
    "for item in range(1,11):\n",
    "    res[item-1,0] = item;\n",
    "    res[item-1,1] = data[data.OverallQual == item].SalePrice.mean()\n",
    "    \n",
    "# normalize\n",
    "res[:,1] = res[:,1]/res[9,1] \n",
    "plt.plot(res[:,0],res[:,1]);\n",
    "\n",
    "for item, val in res:\n",
    "    features.loc[features.OverallQual == item,'OverallQualEst'] = val;\n",
    "\n",
    "features.drop(['OverallQual'],axis = 1,inplace = True);\n",
    "\n",
    "# drop heating type\n",
    "features.drop(['MoSold', 'YrSold'],axis = 1,inplace = True);\n",
    "features = replaceYNVal(features,{'CentralAir'});\n",
    "\n",
    "featureList = {'ExterQual','ExterCond','BsmtQual','BsmtCond','PoolQC','HeatingQC','KitchenQual','GarageQual',\n",
    "               'GarageCond','FireplaceQu','PoolQC'};\n",
    "features = replaceQualVal(features,featureList);\n",
    "\n",
    "features.drop(['MSSubClass'],axis = 1,inplace = True);\n",
    "\n",
    "# process GarageYrBlt\n",
    "empty = pd.isnull(features['GarageYrBlt']);\n",
    "ind = empty[empty == True].index;\n",
    "features.loc[ind.values,'GarageYrBlt'] = features.loc[ind.values,'YearBuilt'];\n",
    "\n",
    "# add new feature\n",
    "features.loc[:,'houseAgeLog'] = np.log(date.today().year - features.loc[:,'YearBuilt']);\n",
    "features.loc[:,'garageAgeLog'] = np.log(date.today().year - features.loc[:,'GarageYrBlt']);\n",
    "features.loc[:,'remodeAge'] = features.loc[:,'YearRemodAdd'] - features.loc[:,'YearBuilt'];\n",
    "\n",
    "x =  fitData(folds,trees,features)\n",
    "print x.mean(axis = 0)"
   ]
  },
  {
   "cell_type": "markdown",
   "metadata": {},
   "source": [
    "Добавил поле \"OverallQualEst\" - оценка средней цены для жилья данного качества \"OverallQual\". Среднее качество - 0,1240"
   ]
  },
  {
   "cell_type": "code",
   "execution_count": 54,
   "metadata": {
    "collapsed": false,
    "scrolled": true
   },
   "outputs": [
    {
     "name": "stdout",
     "output_type": "stream",
     "text": [
      "1.0 0.114344112317\n",
      "2.0 0.118038540565\n",
      "3.0 0.199443834392\n",
      "4.0 0.247203660469\n",
      "5.0 0.304438856545\n",
      "6.0 0.368461725968\n",
      "7.0 0.473602193901\n",
      "8.0 0.626408593283\n",
      "9.0 0.837945172664\n",
      "10.0 1.0\n",
      "[[ 0.9124473   0.12655995]]\n",
      "[[ 0.91346728  0.102571  ]]\n",
      "[[ 0.93981862  0.10934819]]\n",
      "[[ 0.79986062  0.15912128]]\n",
      "[[ 0.91017805  0.14838662]]\n",
      "[[ 0.88371104  0.11495648]]\n",
      "[[ 0.90736049  0.12128089]]\n",
      "[[ 0.91599283  0.10850138]]\n",
      "[[ 0.90978394  0.11109742]]\n",
      "[[ 0.8957721   0.13062574]]\n",
      "[ 0.89883923  0.1232449 ]\n"
     ]
    },
    {
     "data": {
      "image/png": "[encoded data removed]",
      "text/plain": [
       "<matplotlib.figure.Figure at 0xabb5a58>"
      ]
     },
     "metadata": {},
     "output_type": "display_data"
    }
   ],
   "source": [
    "features = data.drop('SalePrice',axis = 1)\n",
    "price = data['SalePrice'].get_values()\n",
    "\n",
    "res = np.ndarray([10,2]);\n",
    "for item in range(1,11):\n",
    "    res[item-1,0] = item;\n",
    "    res[item-1,1] = data[data.OverallQual == item].SalePrice.mean()\n",
    "    \n",
    "# normalize\n",
    "res[:,1] = res[:,1]/res[9,1] \n",
    "plt.plot(res[:,0],res[:,1]);\n",
    "\n",
    "for item, val in res:\n",
    "    print item, val\n",
    "    features.loc[features.OverallQual == item,'OverallQualEst'] = val;\n",
    "\n",
    "\n",
    "#features[\"OverallQualLog\"]=np.log(features[\"OverallQual\"])\n",
    "features.drop(['OverallQual'],axis = 1,inplace = True);\n",
    "\n",
    "# drop heating type\n",
    "#features.drop('Heating',axis = 1,inplace = True);\n",
    "#features.drop(['MoSold', 'YrSold'],axis = 1,inplace = True);\n",
    "features = replaceYNVal(features,{'CentralAir'});\n",
    "\n",
    "#featureList = {'ExterQual','ExterCond','BsmtQual','BsmtCond','PoolQC','HeatingQC','KitchenQual','GarageQual',\n",
    "#               'GarageCond','FireplaceQu','PoolQC'};\n",
    "#features = replaceQualVal(features,featureList);\n",
    "\n",
    "features.drop(['MSSubClass'],axis = 1,inplace = True);\n",
    "\n",
    "# process GarageYrBlt\n",
    "empty = pd.isnull(features['GarageYrBlt']);\n",
    "ind = empty[empty == True].index;\n",
    "features.loc[ind.values,'GarageYrBlt'] = features.loc[ind.values,'YearBuilt'];\n",
    "\n",
    "# add new feature\n",
    "features.loc[:,'houseAgeLog'] = np.log(date.today().year - features.loc[:,'YearBuilt']);\n",
    "features.loc[:,'garageAgeLog'] = np.log(date.today().year - features.loc[:,'GarageYrBlt']);\n",
    "features.loc[:,'remodeAge'] = features.loc[:,'YearRemodAdd'] - features.loc[:,'YearBuilt'];\n",
    "\n",
    "x =  fitData(folds,trees,features)\n",
    "print x.mean(axis = 0)"
   ]
  },
  {
   "cell_type": "markdown",
   "metadata": {},
   "source": [
    "Добавил поле \"OverallQualEst\" - оценка средней цены для жилья данного качества \"OverallQual\".\n",
    "Удалил поле \"OverallQual\". Среднее качество - 0,1232"
   ]
  },
  {
   "cell_type": "code",
   "execution_count": 55,
   "metadata": {
    "collapsed": false
   },
   "outputs": [
    {
     "name": "stdout",
     "output_type": "stream",
     "text": [
      "[[ 0.89892285  0.13164605]]\n",
      "[[ 0.88227812  0.11783398]]\n",
      "[[ 0.92122358  0.11589393]]\n",
      "[[ 0.74467316  0.1616158 ]]\n",
      "[[ 0.91463373  0.14934185]]\n",
      "[[ 0.91422297  0.10129782]]\n",
      "[[ 0.908396    0.11833911]]\n",
      "[[ 0.9220174   0.11096285]]\n",
      "[[ 0.8915075   0.11388965]]\n",
      "[[ 0.88798373  0.13353159]]\n",
      "[ 0.8885859   0.12543526]\n"
     ]
    }
   ],
   "source": [
    "features = data.drop('SalePrice',axis = 1)\n",
    "price = data['SalePrice'].get_values()\n",
    "\n",
    "features.OverallQual = features.OverallQual.astype(str)\n",
    "features = replaceYNVal(features,{'CentralAir'});\n",
    "\n",
    "features.drop(['MSSubClass'],axis = 1,inplace = True);\n",
    "\n",
    "# process GarageYrBlt\n",
    "empty = pd.isnull(features['GarageYrBlt']);\n",
    "ind = empty[empty == True].index;\n",
    "features.loc[ind.values,'GarageYrBlt'] = features.loc[ind.values,'YearBuilt'];\n",
    "\n",
    "# add new feature\n",
    "features.loc[:,'houseAgeLog'] = np.log(date.today().year - features.loc[:,'YearBuilt']);\n",
    "features.loc[:,'garageAgeLog'] = np.log(date.today().year - features.loc[:,'GarageYrBlt']);\n",
    "features.loc[:,'remodeAge'] = features.loc[:,'YearRemodAdd'] - features.loc[:,'YearBuilt'];\n",
    "\n",
    "x =  fitData(folds,trees,features)\n",
    "print x.mean(axis = 0)"
   ]
  },
  {
   "cell_type": "markdown",
   "metadata": {},
   "source": [
    "Replacement of \"OverallQual\" to object type is not a good idea."
   ]
  },
  {
   "cell_type": "code",
   "execution_count": 58,
   "metadata": {
    "collapsed": false
   },
   "outputs": [
    {
     "name": "stdout",
     "output_type": "stream",
     "text": [
      "[[ 0.91973759  0.12172105]]\n",
      "[[ 0.90854472  0.10501882]]\n",
      "[[ 0.93962525  0.11263254]]\n",
      "[[ 0.79081161  0.15938686]]\n",
      "[[ 0.9101996   0.14657917]]\n",
      "[[ 0.88739744  0.1135981 ]]\n",
      "[[ 0.88934741  0.13522321]]\n",
      "[[ 0.9138201   0.10973265]]\n",
      "[[ 0.9149926   0.11428275]]\n",
      "[[ 0.89164324  0.13231356]]\n",
      "[ 0.89661195  0.12504887]\n"
     ]
    }
   ],
   "source": [
    "features = data.drop('SalePrice',axis = 1)\n",
    "price = data['SalePrice'].get_values()\n",
    "\n",
    "#features[\"OverallQualLog\"]=np.log(features[\"OverallQual\"])\n",
    "#features.drop(['OverallQual'],axis = 1,inplace = True);\n",
    "\n",
    "# drop heating type\n",
    "#features.drop('Heating',axis = 1,inplace = True);\n",
    "features.drop(['MoSold', 'YrSold'],axis = 1,inplace = True);\n",
    "features = replaceYNVal(features,{'CentralAir'});\n",
    "\n",
    "#featureList = {'ExterQual','ExterCond','BsmtQual','BsmtCond','PoolQC','HeatingQC','KitchenQual','GarageQual',\n",
    "#               'GarageCond','FireplaceQu','PoolQC'};\n",
    "#features = replaceQualVal(features,featureList);\n",
    "\n",
    "features.drop(['MSSubClass'],axis = 1,inplace = True);\n",
    "\n",
    "# process GarageYrBlt\n",
    "empty = pd.isnull(features['GarageYrBlt']);\n",
    "ind = empty[empty == True].index;\n",
    "features.loc[ind.values,'GarageYrBlt'] = features.loc[ind.values,'YearBuilt'];\n",
    "\n",
    "# add new feature\n",
    "features.loc[:,'houseAgeLog'] = np.log(date.today().year - features.loc[:,'YearBuilt']);\n",
    "features.loc[:,'garageAgeLog'] = np.log(date.today().year - features.loc[:,'GarageYrBlt']);\n",
    "features.loc[:,'remodeAge'] = features.loc[:,'YearRemodAdd'] - features.loc[:,'YearBuilt'];\n",
    "\n",
    "x =  fitData(folds,trees,features)\n",
    "print x.mean(axis = 0)"
   ]
  },
  {
   "cell_type": "code",
   "execution_count": 9,
   "metadata": {
    "collapsed": false
   },
   "outputs": [
    {
     "name": "stdout",
     "output_type": "stream",
     "text": [
      "[[ 0.91806816  0.12506815]]\n",
      "[[ 0.91610383  0.10580227]]\n",
      "[[ 0.94012534  0.11047888]]\n",
      "[[ 0.82862827  0.14924417]]\n",
      "[[ 0.91519613  0.1491955 ]]\n",
      "[[ 0.90062798  0.11211918]]\n",
      "[[ 0.88308314  0.13382119]]\n",
      "[[ 0.90254458  0.11030555]]\n",
      "[[ 0.91770856  0.11062214]]\n",
      "[[ 0.88592945  0.13580009]]\n",
      "[ 0.90080154  0.12424571]\n"
     ]
    }
   ],
   "source": [
    "features = data.drop('SalePrice',axis = 1)\n",
    "price = data['SalePrice'].get_values()\n",
    "\n",
    "#features[\"OverallQualLog\"]=np.log(features[\"OverallQual\"])\n",
    "#features.drop(['OverallQual'],axis = 1,inplace = True);\n",
    "\n",
    "# drop heating type\n",
    "#features.drop('Heating',axis = 1,inplace = True);\n",
    "features.drop(['MoSold', 'YrSold','TotalBsmtSF'],axis = 1,inplace = True);\n",
    "features = replaceYNVal(features,{'CentralAir'});\n",
    "\n",
    "#featureList = {'ExterQual','ExterCond','BsmtQual','BsmtCond','PoolQC','HeatingQC','KitchenQual','GarageQual',\n",
    "#               'GarageCond','FireplaceQu','PoolQC'};\n",
    "#features = replaceQualVal(features,featureList);\n",
    "\n",
    "features.drop(['MSSubClass'],axis = 1,inplace = True);\n",
    "\n",
    "# process GarageYrBlt\n",
    "empty = pd.isnull(features['GarageYrBlt']);\n",
    "ind = empty[empty == True].index;\n",
    "features.loc[ind.values,'GarageYrBlt'] = features.loc[ind.values,'YearBuilt'];\n",
    "\n",
    "# add new feature\n",
    "features.loc[:,'houseAgeLog'] = np.log(date.today().year - features.loc[:,'YearBuilt']);\n",
    "features.loc[:,'garageAgeLog'] = np.log(date.today().year - features.loc[:,'GarageYrBlt']);\n",
    "features.loc[:,'remodeAge'] = features.loc[:,'YearRemodAdd'] - features.loc[:,'YearBuilt'];\n",
    "features.drop(['YearBuilt','GarageYrBlt','YearRemodAdd'],axis = 1,inplace = True)\n",
    "\n",
    "x =  fitData(folds,trees,features)\n",
    "print x.mean(axis = 0)"
   ]
  },
  {
   "cell_type": "code",
   "execution_count": 10,
   "metadata": {
    "collapsed": false
   },
   "outputs": [
    {
     "name": "stdout",
     "output_type": "stream",
     "text": [
      "[[ 0.91348277  0.13051803]]\n",
      "[[ 0.91418169  0.10167185]]\n",
      "[[ 0.93749682  0.10885435]]\n",
      "[[ 0.80787197  0.15800904]]\n",
      "[[ 0.91030795  0.1466641 ]]\n",
      "[[ 0.89539307  0.11256132]]\n",
      "[[ 0.89806493  0.12184013]]\n",
      "[[ 0.91835841  0.11845926]]\n",
      "[[ 0.91703017  0.10919241]]\n",
      "[[ 0.8875673   0.13648308]]\n",
      "[ 0.89997551  0.12442536]\n"
     ]
    }
   ],
   "source": [
    "features = data.drop('SalePrice',axis = 1)\n",
    "price = data['SalePrice'].get_values()\n",
    "\n",
    "#features[\"OverallQualLog\"]=np.log(features[\"OverallQual\"])\n",
    "#features.drop(['OverallQual'],axis = 1,inplace = True);\n",
    "\n",
    "# drop heating type\n",
    "#features.drop('Heating',axis = 1,inplace = True);\n",
    "features.drop(['MoSold', 'YrSold','TotalBsmtSF'],axis = 1,inplace = True);\n",
    "features = replaceYNVal(features,{'CentralAir'});\n",
    "\n",
    "#featureList = {'ExterQual','ExterCond','BsmtQual','BsmtCond','PoolQC','HeatingQC','KitchenQual','GarageQual',\n",
    "#               'GarageCond','FireplaceQu','PoolQC'};\n",
    "#features = replaceQualVal(features,featureList);\n",
    "\n",
    "features.drop(['MSSubClass'],axis = 1,inplace = True);\n",
    "\n",
    "# process GarageYrBlt\n",
    "empty = pd.isnull(features['GarageYrBlt']);\n",
    "ind = empty[empty == True].index;\n",
    "features.loc[ind.values,'GarageYrBlt'] = features.loc[ind.values,'YearBuilt'];\n",
    "\n",
    "# add new feature\n",
    "#features.loc[:,'houseAgeLog'] = np.log(date.today().year - features.loc[:,'YearBuilt']);\n",
    "#features.loc[:,'garageAgeLog'] = np.log(date.today().year - features.loc[:,'GarageYrBlt']);\n",
    "#features.loc[:,'remodeAge'] = features.loc[:,'YearRemodAdd'] - features.loc[:,'YearBuilt'];\n",
    "#features.drop(['YearBuilt','GarageYrBlt','YearRemodAdd'],axis = 1,inplace = True)\n",
    "\n",
    "x =  fitData(folds,trees,features)\n",
    "print x.mean(axis = 0)"
   ]
  },
  {
   "cell_type": "code",
   "execution_count": null,
   "metadata": {
    "collapsed": true
   },
   "outputs": [],
   "source": [
    "features = data.drop('SalePrice',axis = 1)\n",
    "price = data['SalePrice'].get_values()\n",
    "\n",
    "features[\"OverallQualLog\"]=np.log(features[\"OverallQual\"])\n",
    "features.drop(['OverallQual'],axis = 1,inplace = True);\n",
    "\n",
    "# drop heating type\n",
    "#features.drop('Heating',axis = 1,inplace = True);\n",
    "features.drop(['MoSold', 'YrSold','TotalBsmtSF'],axis = 1,inplace = True);\n",
    "features = replaceYNVal(features,{'CentralAir'});\n",
    "\n",
    "#featureList = {'ExterQual','ExterCond','BsmtQual','BsmtCond','PoolQC','HeatingQC','KitchenQual','GarageQual',\n",
    "#               'GarageCond','FireplaceQu','PoolQC'};\n",
    "#features = replaceQualVal(features,featureList);\n",
    "\n",
    "features.drop(['MSSubClass'],axis = 1,inplace = True);\n",
    "\n",
    "# process GarageYrBlt\n",
    "empty = pd.isnull(features['GarageYrBlt']);\n",
    "ind = empty[empty == True].index;\n",
    "features.loc[ind.values,'GarageYrBlt'] = features.loc[ind.values,'YearBuilt'];\n",
    "\n",
    "# add new feature\n",
    "#features.loc[:,'houseAgeLog'] = np.log(date.today().year - features.loc[:,'YearBuilt']);\n",
    "#features.loc[:,'garageAgeLog'] = np.log(date.today().year - features.loc[:,'GarageYrBlt']);\n",
    "#features.loc[:,'remodeAge'] = features.loc[:,'YearRemodAdd'] - features.loc[:,'YearBuilt'];\n",
    "#features.drop(['YearBuilt','GarageYrBlt','YearRemodAdd'],axis = 1,inplace = True)\n",
    "\n",
    "xTree =  fitData(folds,trees,features)\n",
    "print xTree.mean(axis = 0)\n",
    "\n",
    "xRidge =  fitData(LCV,trees,features)\n",
    "print xRidge.mean(axis = 0)\n"
   ]
  }
 ],
 "metadata": {
  "kernelspec": {
   "display_name": "Python 2",
   "language": "python",
   "name": "python2"
  },
  "language_info": {
   "codemirror_mode": {
    "name": "ipython",
    "version": 2
   },
   "file_extension": ".py",
   "mimetype": "text/x-python",
   "name": "python",
   "nbconvert_exporter": "python",
   "pygments_lexer": "ipython2",
   "version": "2.7.12"
  }
 },
 "nbformat": 4,
 "nbformat_minor": 0
}
