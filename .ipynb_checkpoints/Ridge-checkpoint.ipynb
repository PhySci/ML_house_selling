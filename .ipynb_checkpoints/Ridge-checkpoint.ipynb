{
 "cells": [
  {
   "cell_type": "code",
   "execution_count": 1,
   "metadata": {
    "collapsed": false
   },
   "outputs": [],
   "source": [
    "import pandas as pd\n",
    "import numpy as np\n",
    "import matplotlib.pyplot as plt\n",
    "import sklearn.cross_validation as CV\n",
    "from sklearn.feature_extraction import DictVectorizer as DV\n",
    "from datetime import date\n",
    "from sklearn import linear_model as LM\n",
    "\n",
    "%matplotlib inline"
   ]
  },
  {
   "cell_type": "code",
   "execution_count": 2,
   "metadata": {
    "collapsed": false
   },
   "outputs": [
    {
     "data": {
      "image/png": "[encoded data removed]",
      "text/plain": [
       "<matplotlib.figure.Figure at 0x3c84f60>"
      ]
     },
     "metadata": {},
     "output_type": "display_data"
    }
   ],
   "source": [
    "data = pd.read_csv('train.csv',index_col='Id')\n",
    "features = data.drop('SalePrice',axis = 1)\n",
    "price = data.SalePrice\n",
    "plt.hist(price,bins = 100)\n",
    "plt.xlabel('Price')\n",
    "plt.ylabel('Counts')\n",
    "plt.title('Price distribution')\n",
    "plt.show()"
   ]
  },
  {
   "cell_type": "markdown",
   "metadata": {},
   "source": [
    "## Search empty numeric values"
   ]
  },
  {
   "cell_type": "code",
   "execution_count": 3,
   "metadata": {
    "collapsed": false,
    "scrolled": true
   },
   "outputs": [
    {
     "name": "stdout",
     "output_type": "stream",
     "text": [
      "LotFrontage 259 17.7397260274\n",
      "MasVnrArea 8 0.547945205479\n",
      "GarageYrBlt 81 5.54794520548\n"
     ]
    },
    {
     "name": "stderr",
     "output_type": "stream",
     "text": [
      "D:\\Anaconda\\lib\\site-packages\\pandas\\core\\frame.py:2756: SettingWithCopyWarning: \n",
      "A value is trying to be set on a copy of a slice from a DataFrame\n",
      "\n",
      "See the caveats in the documentation: http://pandas.pydata.org/pandas-docs/stable/indexing.html#indexing-view-versus-copy\n",
      "  downcast=downcast, **kwargs)\n"
     ]
    }
   ],
   "source": [
    "num_columns = features.select_dtypes(exclude=['object']).columns\n",
    "obj_columns = features.select_dtypes(include=['object']).columns\n",
    "\n",
    "for feature in num_columns:\n",
    "    empty = pd.isnull(features[feature]);\n",
    "    count = empty[empty == True].count()\n",
    "    if count>0:\n",
    "        print feature, count, count*100.0/1460\n",
    "        \n",
    "\n",
    "obj_features = features[obj_columns];\n",
    "obj_features.fillna('empty',inplace=True);\n",
    "\n",
    "encoder = DV(sparse = False);\n",
    "t = obj_features.T.to_dict().values();\n",
    "encoded_data = encoder.fit_transform(t);"
   ]
  },
  {
   "cell_type": "markdown",
   "metadata": {},
   "source": [
    "## Define functions"
   ]
  },
  {
   "cell_type": "code",
   "execution_count": 4,
   "metadata": {
    "collapsed": false
   },
   "outputs": [],
   "source": [
    "def myScore(y, y_pred):\n",
    "    yLog = np.log(y);\n",
    "    ind = np.isinf(yLog);\n",
    "    yLog[ind == True] = 0;    \n",
    "    \n",
    "    y_predLog = np.log(y_pred);\n",
    "    ind = np.isinf(y_predLog);\n",
    "    y_predLog[ind == True] = 0;\n",
    "    \n",
    "    summ = np.sum(np.power(yLog-y_predLog,2))     \n",
    "    return np.sqrt(summ/y.shape[0])\n",
    "\n",
    "# replace qualitative estimation to number\n",
    "def replaceQualVal(dataSet,fNameList):\n",
    "    # dictionary of values\n",
    "    vocab = {\n",
    "        'Ex': 5, 'EX': 5, # excellent    \n",
    "        'Gd': 4, 'GD': 4, # good\n",
    "        'TA': 3, 'Ta': 3, # normal\n",
    "        'FA': 2, 'Fa': 2, # fair\n",
    "        'PO': 1, 'Po': 1  # \n",
    "        }\n",
    "    \n",
    "    for fName in fNameList:\n",
    "        \n",
    "        # replace stings to numbers\n",
    "        for word in vocab:\n",
    "            searchDict = {fName:[word]};\n",
    "            X = dataSet.isin(searchDict);\n",
    "            dataSet.loc[X[fName],fName] = vocab[word];\n",
    "        \n",
    "        # convert to numeric type\n",
    "        dataSet[[fName]] = dataSet[[fName]].apply(pd.to_numeric);\n",
    "    return dataSet;    \n",
    "# end of function    "
   ]
  },
  {
   "cell_type": "markdown",
   "metadata": {},
   "source": [
    "## Create folds and trees "
   ]
  },
  {
   "cell_type": "code",
   "execution_count": 5,
   "metadata": {
    "collapsed": false
   },
   "outputs": [],
   "source": [
    "folds = CV.KFold(price.size, n_folds=5, random_state = 43);\n",
    "shuffle = CV.ShuffleSplit(price.size, n_iter=3, test_size=0.33, random_state=43)"
   ]
  },
  {
   "cell_type": "code",
   "execution_count": 9,
   "metadata": {
    "collapsed": false
   },
   "outputs": [],
   "source": [
    "features = data.drop('SalePrice',axis = 1)\n",
    "    \n",
    "# drop heating type\n",
    "features.drop('Heating',axis = 1,inplace = True);\n",
    "features.drop(['MoSold', 'YrSold'],axis = 1,inplace = True);\n",
    "\n",
    "num_features = features.select_dtypes(exclude=['object']);\n",
    "\n",
    "# process GarageYrBlt\n",
    "empty = pd.isnull(num_features['GarageYrBlt']);\n",
    "ind = empty[empty == True].index;\n",
    "num_features.loc[ind.values,'GarageYrBlt'] = features.loc[ind.values,'YearBuilt'];\n",
    "\n",
    "# add new feature\n",
    "num_features.loc[:,'houseAgeLog'] = np.log(date.today().year - num_features.loc[:,'YearBuilt']);\n",
    "num_features.loc[:,'garageAgeLog'] = np.log(date.today().year - num_features.loc[:,'GarageYrBlt']);\n",
    "num_features.loc[:,'remodeAge'] = num_features.loc[:,'YearRemodAdd'] - num_features.loc[:,'YearBuilt'];\n",
    "num_features.fillna(0,inplace=True);\n",
    "\n",
    "obj_features = features.select_dtypes(include=['object']);\n",
    "obj_features.fillna('empty',inplace=True)\n",
    "encoded_data = encoder.fit_transform(obj_features.T.to_dict().values());\n",
    "transFeatures = np.hstack([num_features, encoded_data]);"
   ]
  },
  {
   "cell_type": "code",
   "execution_count": 10,
   "metadata": {
    "collapsed": true
   },
   "outputs": [],
   "source": [
    "X_train, X_test, y_train, y_test = CV.train_test_split(transFeatures, price, test_size=0.33,random_state=43);"
   ]
  },
  {
   "cell_type": "code",
   "execution_count": 11,
   "metadata": {
    "collapsed": false
   },
   "outputs": [
    {
     "name": "stderr",
     "output_type": "stream",
     "text": [
      "[Parallel(n_jobs=8)]: Done   3 out of   3 | elapsed:    2.8s finished\n"
     ]
    },
    {
     "data": {
      "text/plain": [
       "LassoLarsCV(copy_X=True, cv=3, eps=2.2204460492503131e-16, fit_intercept=True,\n",
       "      max_iter=1000, max_n_alphas=1000, n_jobs=8, normalize=True,\n",
       "      positive=False, precompute='auto', verbose=True)"
      ]
     },
     "execution_count": 11,
     "metadata": {},
     "output_type": "execute_result"
    }
   ],
   "source": [
    "LCV = LM.LassoLarsCV(verbose=True, max_iter=1000, normalize=True, cv=3, n_jobs=8)\n",
    "LCV.fit(X_train,y_train);\n",
    "y_pr = LCV.predict(X_test);\n",
    "print myScore()"
   ]
  },
  {
   "cell_type": "code",
   "execution_count": null,
   "metadata": {
    "collapsed": false
   },
   "outputs": [],
   "source": [
    "clf = LM.Ridge(alpha = 0.7,normalize = True)\n",
    "clf.fit(X_train,y_train);\n",
    "y_pr = clf.predict(X_test);\n",
    "print myScore(y_test, y_pr)*100\n",
    "\n",
    "y_pr = clf.predict(X_test);\n",
    "print myScore(y_test, y_pr)"
   ]
  },
  {
   "cell_type": "markdown",
   "metadata": {},
   "source": [
    "## Lasso regression"
   ]
  },
  {
   "cell_type": "code",
   "execution_count": 7,
   "metadata": {
    "collapsed": false
   },
   "outputs": [
    {
     "name": "stdout",
     "output_type": "stream",
     "text": [
      "81.4743405125\n",
      "18.8166481381\n"
     ]
    }
   ],
   "source": [
    "Lasso = LM.Lasso(alpha=0.8, normalize=True, max_iter=10000)\n",
    "\n",
    "CVS7 = CV.cross_val_score(Lasso, transFeatures7, price, cv=folds,n_jobs = 8);\n",
    "print CVS7.mean()*100\n",
    "\n",
    "Lasso.fit(X_train,y_train);\n",
    "y_pr = Lasso.predict(X_test);\n",
    "print myScore(y_test, y_pr)*100"
   ]
  },
  {
   "cell_type": "code",
   "execution_count": null,
   "metadata": {
    "collapsed": true
   },
   "outputs": [],
   "source": []
  }
 ],
 "metadata": {
  "kernelspec": {
   "display_name": "Python 2",
   "language": "python",
   "name": "python2"
  },
  "language_info": {
   "codemirror_mode": {
    "name": "ipython",
    "version": 2
   },
   "file_extension": ".py",
   "mimetype": "text/x-python",
   "name": "python",
   "nbconvert_exporter": "python",
   "pygments_lexer": "ipython2",
   "version": "2.7.12"
  }
 },
 "nbformat": 4,
 "nbformat_minor": 0
}
