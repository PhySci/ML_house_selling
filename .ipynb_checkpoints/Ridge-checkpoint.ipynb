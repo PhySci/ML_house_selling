{
 "cells": [
  {
   "cell_type": "code",
   "execution_count": 1,
   "metadata": {
    "collapsed": false
   },
   "outputs": [],
   "source": [
    "import pandas as pd\n",
    "import numpy as np\n",
    "import matplotlib.pyplot as plt\n",
    "import sklearn.cross_validation as CV\n",
    "from sklearn.feature_extraction import DictVectorizer as DV\n",
    "from datetime import date\n",
    "from sklearn import linear_model as LM\n",
    "\n",
    "%matplotlib inline"
   ]
  },
  {
   "cell_type": "code",
   "execution_count": 2,
   "metadata": {
    "collapsed": false
   },
   "outputs": [
    {
     "data": {
      "image/png": "[encoded data removed]",
      "text/plain": [
       "<matplotlib.figure.Figure at 0xa8e08d0>"
      ]
     },
     "metadata": {},
     "output_type": "display_data"
    }
   ],
   "source": [
    "data = pd.read_csv('train.csv',index_col='Id')\n",
    "features = data.drop('SalePrice',axis = 1)\n",
    "price = data.SalePrice\n",
    "plt.hist(price,bins = 100)\n",
    "plt.xlabel('Price')\n",
    "plt.ylabel('Counts')\n",
    "plt.title('Price distribution')\n",
    "plt.show()"
   ]
  },
  {
   "cell_type": "markdown",
   "metadata": {},
   "source": [
    "## Search empty numeric values"
   ]
  },
  {
   "cell_type": "code",
   "execution_count": 3,
   "metadata": {
    "collapsed": false,
    "scrolled": true
   },
   "outputs": [
    {
     "name": "stdout",
     "output_type": "stream",
     "text": [
      "LotFrontage 259 17.7397260274\n",
      "MasVnrArea 8 0.547945205479\n",
      "GarageYrBlt 81 5.54794520548\n"
     ]
    },
    {
     "name": "stderr",
     "output_type": "stream",
     "text": [
      "D:\\Anaconda\\lib\\site-packages\\pandas\\core\\frame.py:2756: SettingWithCopyWarning: \n",
      "A value is trying to be set on a copy of a slice from a DataFrame\n",
      "\n",
      "See the caveats in the documentation: http://pandas.pydata.org/pandas-docs/stable/indexing.html#indexing-view-versus-copy\n",
      "  downcast=downcast, **kwargs)\n"
     ]
    }
   ],
   "source": [
    "num_columns = features.select_dtypes(exclude=['object']).columns\n",
    "obj_columns = features.select_dtypes(include=['object']).columns\n",
    "\n",
    "for feature in num_columns:\n",
    "    empty = pd.isnull(features[feature]);\n",
    "    count = empty[empty == True].count()\n",
    "    if count>0:\n",
    "        print feature, count, count*100.0/1460\n",
    "        \n",
    "\n",
    "obj_features = features[obj_columns];\n",
    "obj_features.fillna('empty',inplace=True);\n",
    "\n",
    "encoder = DV(sparse = False);\n",
    "t = obj_features.T.to_dict().values();\n",
    "encoded_data = encoder.fit_transform(t);"
   ]
  },
  {
   "cell_type": "markdown",
   "metadata": {},
   "source": [
    "## Define score function"
   ]
  },
  {
   "cell_type": "code",
   "execution_count": 18,
   "metadata": {
    "collapsed": false
   },
   "outputs": [],
   "source": [
    "def myScore(y, y_pred):\n",
    "    yLog = np.log(y);\n",
    "    ind = np.isinf(yLog);\n",
    "    yLog[ind == True] = 0;    \n",
    "    \n",
    "    y_predLog = np.log(y_pred);\n",
    "    ind = np.isinf(y_predLog);\n",
    "    y_predLog[ind == True] = 0;\n",
    "    \n",
    "    summ = np.sum(np.power(yLog-y_predLog,2))     \n",
    "    return np.sqrt(summ/y.shape[0])"
   ]
  },
  {
   "cell_type": "markdown",
   "metadata": {},
   "source": [
    "## Test GB Regression for raw numerical data"
   ]
  },
  {
   "cell_type": "markdown",
   "metadata": {},
   "source": [
    "## Create folds and trees "
   ]
  },
  {
   "cell_type": "code",
   "execution_count": 10,
   "metadata": {
    "collapsed": false
   },
   "outputs": [],
   "source": [
    "folds = CV.KFold(price.size, n_folds=5, random_state = 43);\n",
    "shuffle = CV.ShuffleSplit(price.size, n_iter=3, test_size=0.33, random_state=43)"
   ]
  },
  {
   "cell_type": "code",
   "execution_count": 52,
   "metadata": {
    "collapsed": false
   },
   "outputs": [
    {
     "name": "stdout",
     "output_type": "stream",
     "text": [
      "14.1035456233\n"
     ]
    }
   ],
   "source": [
    "features2 = features.copy();\n",
    "    \n",
    "# drop heating type\n",
    "features2.drop('Heating',axis = 1,inplace = True);\n",
    "features2.drop(['MoSold', 'YrSold'],axis = 1,inplace = True);\n",
    "\n",
    "num_features7 = features2.select_dtypes(exclude=['object']);\n",
    "\n",
    "# process GarageYrBlt\n",
    "# good\n",
    "empty = pd.isnull(num_features7['GarageYrBlt']);\n",
    "ind = empty[empty == True].index;\n",
    "num_features7.loc[ind.values,'GarageYrBlt'] = features.loc[ind.values,'YearBuilt'];\n",
    "\n",
    "# add new feature\n",
    "num_features7.loc[:,'houseAgeLog'] = np.log(date.today().year - num_features7.loc[:,'YearBuilt']);\n",
    "num_features7.loc[:,'garageAgeLog'] = np.log(date.today().year - num_features7.loc[:,'GarageYrBlt']);\n",
    "num_features7.loc[:,'remodeAge'] = num_features7.loc[:,'YearRemodAdd'] - num_features7.loc[:,'YearBuilt']; #num_features5.loc[:,'YearRemodAdd']);\n",
    "num_features7.fillna(0,inplace=True);\n",
    "\n",
    "obj_features2 = features2.select_dtypes(include=['object']);\n",
    "obj_features2.fillna('empty',inplace=True)\n",
    "encoded_data2 = encoder.fit_transform(obj_features2.T.to_dict().values());\n",
    "transFeatures7 = np.hstack([num_features7, encoded_data2]);\n",
    "\n",
    "X_train, X_test, y_train, y_test = CV.train_test_split(transFeatures7, price, test_size=0.33,random_state=43);\n",
    "clf = LM.Ridge(alpha = 0.7,normalize = True)\n",
    "clf.fit(X_train,y_train);\n",
    "y_pr = clf.predict(X_test);\n",
    "print myScore(y_test, y_pr)*100"
   ]
  },
  {
   "cell_type": "code",
   "execution_count": 53,
   "metadata": {
    "collapsed": false
   },
   "outputs": [
    {
     "data": {
      "text/plain": [
       "0.84057897193174758"
      ]
     },
     "execution_count": 53,
     "metadata": {},
     "output_type": "execute_result"
    }
   ],
   "source": [
    "CVS7 = CV.cross_val_score(clf, transFeatures7, price, cv=folds,n_jobs = 8);\n",
    "CVS7.mean()"
   ]
  },
  {
   "cell_type": "code",
   "execution_count": 61,
   "metadata": {
    "collapsed": false
   },
   "outputs": [
    {
     "name": "stdout",
     "output_type": "stream",
     "text": [
      "0.141035456233\n"
     ]
    }
   ],
   "source": [
    "X_train, X_test, y_train, y_test = CV.train_test_split(transFeatures7, price, test_size=0.33,random_state=43);\n",
    "y_pr = clf.predict(X_test);\n",
    "print myScore(y_test, y_pr)"
   ]
  },
  {
   "cell_type": "markdown",
   "metadata": {},
   "source": [
    "## Lasso regression"
   ]
  },
  {
   "cell_type": "code",
   "execution_count": 96,
   "metadata": {
    "collapsed": false
   },
   "outputs": [
    {
     "name": "stdout",
     "output_type": "stream",
     "text": [
      "18.8166481381\n"
     ]
    }
   ],
   "source": [
    "features2 = features.copy();\n",
    "    \n",
    "# drop heating type\n",
    "features2.drop('Heating',axis = 1,inplace = True);\n",
    "features2.drop(['MoSold', 'YrSold'],axis = 1,inplace = True);\n",
    "\n",
    "num_features7 = features2.select_dtypes(exclude=['object']);\n",
    "\n",
    "# process GarageYrBlt\n",
    "# good\n",
    "empty = pd.isnull(num_features7['GarageYrBlt']);\n",
    "ind = empty[empty == True].index;\n",
    "num_features7.loc[ind.values,'GarageYrBlt'] = features.loc[ind.values,'YearBuilt'];\n",
    "\n",
    "# add new feature\n",
    "num_features7.loc[:,'houseAgeLog'] = np.log(date.today().year - num_features7.loc[:,'YearBuilt']);\n",
    "num_features7.loc[:,'remodeAge'] = num_features7.loc[:,'YearRemodAdd'] - num_features7.loc[:,'YearBuilt']; #num_features5.loc[:,'YearRemodAdd']);\n",
    "num_features7.fillna(0,inplace=True);\n",
    "\n",
    "obj_features2 = features2.select_dtypes(include=['object']);\n",
    "obj_features2.fillna('empty',inplace=True)\n",
    "encoded_data2 = encoder.fit_transform(obj_features2.T.to_dict().values());\n",
    "transFeatures7 = np.hstack([num_features7, encoded_data2]);\n",
    "\n",
    "Lasso = LM.Lasso(alpha=0.8, normalize=True, max_iter=10000)\n",
    "Lasso.fit(X_train,y_train);\n",
    "y_pr = Lasso.predict(X_test);\n",
    "print myScore(y_test, y_pr)*100"
   ]
  },
  {
   "cell_type": "code",
   "execution_count": 77,
   "metadata": {
    "collapsed": false
   },
   "outputs": [
    {
     "data": {
      "text/plain": [
       "0.81474340512468435"
      ]
     },
     "execution_count": 77,
     "metadata": {},
     "output_type": "execute_result"
    }
   ],
   "source": [
    "CVS7 = CV.cross_val_score(Lasso, transFeatures7, price, cv=folds,n_jobs = 8);\n",
    "CVS7.mean()"
   ]
  },
  {
   "cell_type": "code",
   "execution_count": 81,
   "metadata": {
    "collapsed": false
   },
   "outputs": [
    {
     "data": {
      "text/plain": [
       "[<matplotlib.lines.Line2D at 0xcc42a90>]"
      ]
     },
     "execution_count": 81,
     "metadata": {},
     "output_type": "execute_result"
    },
    {
     "data": {
      "image/png": "[encoded data removed]",
      "text/plain": [
       "<matplotlib.figure.Figure at 0xae24630>"
      ]
     },
     "metadata": {},
     "output_type": "display_data"
    }
   ],
   "source": [
    "plt.plot(Lasso.coef_)"
   ]
  },
  {
   "cell_type": "code",
   "execution_count": 94,
   "metadata": {
    "collapsed": false
   },
   "outputs": [
    {
     "data": {
      "text/plain": [
       "[('MSSubClass', -132.13955595283014),\n",
       " ('LotFrontage', 23.288093410912037),\n",
       " ('LotArea', 0.41710591740852854),\n",
       " ('OverallQual', 5269.4468321824643),\n",
       " ('OverallCond', 8647.8803824307579),\n",
       " ('YearBuilt', 255.16983954397432),\n",
       " ('YearRemodAdd', 14.917074372594396),\n",
       " ('MasVnrArea', 5.1954725348735273),\n",
       " ('BsmtFinSF1', 17.151235769183245),\n",
       " ('BsmtFinSF2', 7.7743102443498362),\n",
       " ('BsmtUnfSF', -0.0),\n",
       " ('TotalBsmtSF', 18.030506987340789),\n",
       " ('1stFlrSF', 0.0),\n",
       " ('2ndFlrSF', 2.7912976590898513),\n",
       " ('LowQualFinSF', -75.427539512642994),\n",
       " ('GrLivArea', 58.342745124558007),\n",
       " ('BsmtFullBath', 544.17672622452392),\n",
       " ('BsmtHalfBath', -3802.1727852815143),\n",
       " ('FullBath', 2853.0623174917177),\n",
       " ('HalfBath', 4535.7682788479697),\n",
       " ('BedroomAbvGr', -5372.1941776366775),\n",
       " ('KitchenAbvGr', -9010.9736566756656),\n",
       " ('TotRmsAbvGrd', 3244.4648464682632),\n",
       " ('Fireplaces', 4246.974731333562),\n",
       " ('GarageYrBlt', -27.712947971373211),\n",
       " ('GarageCars', 2794.2863358778172),\n",
       " ('GarageArea', 20.088627769830659),\n",
       " ('WoodDeckSF', 11.45905862266244),\n",
       " ('OpenPorchSF', 24.001006080349281),\n",
       " ('EnclosedPorch', 7.9837806134442015),\n",
       " ('3SsnPorch', 21.882210679271761),\n",
       " ('ScreenPorch', 34.471819463078837),\n",
       " ('PoolArea', 197.54893471282978),\n",
       " ('MiscVal', 1.2807202613756186),\n",
       " ('houseAgeLog', -8429.1621428404305),\n",
       " ('garageAgeLog', 0.0)]"
      ]
     },
     "execution_count": 94,
     "metadata": {},
     "output_type": "execute_result"
    }
   ],
   "source": [
    "Sz = num_features7.shape[1];\n",
    "coeffs = Lasso.coef_;\n",
    "num_coeffs = coeffs[0:Sz-1];\n",
    "zip(num_features7.columns, num_coeffs)"
   ]
  },
  {
   "cell_type": "code",
   "execution_count": null,
   "metadata": {
    "collapsed": true
   },
   "outputs": [],
   "source": []
  }
 ],
 "metadata": {
  "kernelspec": {
   "display_name": "Python 2",
   "language": "python",
   "name": "python2"
  },
  "language_info": {
   "codemirror_mode": {
    "name": "ipython",
    "version": 2
   },
   "file_extension": ".py",
   "mimetype": "text/x-python",
   "name": "python",
   "nbconvert_exporter": "python",
   "pygments_lexer": "ipython2",
   "version": "2.7.11"
  }
 },
 "nbformat": 4,
 "nbformat_minor": 0
}
