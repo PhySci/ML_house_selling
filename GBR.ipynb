{
 "cells": [
  {
   "cell_type": "code",
   "execution_count": 9,
   "metadata": {
    "collapsed": false
   },
   "outputs": [],
   "source": [
    "import pandas as pd\n",
    "import numpy as np\n",
    "import matplotlib.pyplot as plt\n",
    "import sklearn.cross_validation as CV\n",
    "from sklearn.feature_extraction import DictVectorizer as DV\n",
    "from datetime import date\n",
    "from sklearn import linear_model as LM\n",
    "from sklearn.ensemble import GradientBoostingRegressor as GBR\n",
    "\n",
    "%matplotlib inline"
   ]
  },
  {
   "cell_type": "code",
   "execution_count": 10,
   "metadata": {
    "collapsed": false
   },
   "outputs": [
    {
     "data": {
      "image/png": "[encoded data removed]",
      "text/plain": [
       "<matplotlib.figure.Figure at 0xa988a68c>"
      ]
     },
     "metadata": {},
     "output_type": "display_data"
    }
   ],
   "source": [
    "data = pd.read_csv('train.csv',index_col='Id')\n",
    "features = data.drop('SalePrice',axis = 1)\n",
    "price = data.SalePrice\n",
    "plt.hist(price,bins = 100)\n",
    "plt.xlabel('Price')\n",
    "plt.ylabel('Counts')\n",
    "plt.title('Price distribution')\n",
    "plt.show()"
   ]
  },
  {
   "cell_type": "markdown",
   "metadata": {},
   "source": [
    "## Define functions"
   ]
  },
  {
   "cell_type": "code",
   "execution_count": 75,
   "metadata": {
    "collapsed": false
   },
   "outputs": [],
   "source": [
    "def myScore(y, y_pred):\n",
    "    res = np.ndarray([1,2]);\n",
    "    u = (np.power((y-y_pred),2)).sum();\n",
    "    v = (np.power((y-y.mean()),2)).sum();\n",
    "    res[0,0] = 1-(u/v);\n",
    "\n",
    "    \n",
    "    yLog = np.log(y);\n",
    "    ind = np.isinf(yLog);\n",
    "    yLog[ind == True] = 0; \n",
    "    y_predLog = np.log(y_pred);\n",
    "    ind = np.isinf(y_predLog);\n",
    "    y_predLog[ind == True] = 0;   \n",
    "    summ = np.sum(np.power(yLog-y_predLog,2))\n",
    "    res[0,1] = np.sqrt(summ/y.shape[0]);\n",
    "\n",
    "    return res\n",
    "\n",
    "# replace qualitative estimation to number\n",
    "def replaceQualVal(dataSet,fNameList):\n",
    "    # dictionary of values\n",
    "    vocab = {\n",
    "        'Ex': 5, 'EX': 5, # excellent    \n",
    "        'Gd': 4, 'GD': 4, # good\n",
    "        'TA': 3, 'Ta': 3, # normal\n",
    "        'FA': 2, 'Fa': 2, # fair\n",
    "        'PO': 1, 'Po': 1  # \n",
    "        }\n",
    "    \n",
    "    for fName in fNameList:\n",
    "        # replace stings to numbers\n",
    "        for word in vocab:\n",
    "            searchDict = {fName:[word]};\n",
    "            X = dataSet.isin(searchDict);\n",
    "            dataSet.loc[X[fName],fName] = vocab[word];\n",
    "        \n",
    "        # convert to numeric type\n",
    "        dataSet[[fName]] = dataSet[[fName]].apply(pd.to_numeric);\n",
    "    return dataSet;    \n",
    "# end of function\n",
    "\n",
    "# replace Yes/No estimation to number\n",
    "def replaceYNVal(dataSet,fNameList):\n",
    "    # dictionary of values\n",
    "    vocab = {\n",
    "        'Y': 1, 'Yes': 1, # yes    \n",
    "        'N': 0, 'No': 0 # no\n",
    "        }\n",
    "    \n",
    "    for fName in fNameList:\n",
    "        # replace stings to numbers\n",
    "        for word in vocab:\n",
    "            searchDict = {fName:[word]};\n",
    "            X = dataSet.isin(searchDict);\n",
    "            dataSet.loc[X[fName],fName] = vocab[word];\n",
    "        \n",
    "        # convert to numeric type\n",
    "        dataSet[[fName]] = dataSet[[fName]].apply(pd.to_numeric);\n",
    "    return dataSet; "
   ]
  },
  {
   "cell_type": "markdown",
   "metadata": {},
   "source": [
    "## Create folds and trees "
   ]
  },
  {
   "cell_type": "code",
   "execution_count": 85,
   "metadata": {
    "collapsed": false
   },
   "outputs": [],
   "source": [
    "features = data.drop('SalePrice',axis = 1)\n",
    "price = data['SalePrice'].get_values()\n",
    "\n",
    "features[\"OverallQualLog\"]=np.log(features[\"OverallQual\"])\n",
    "features.drop(['OverallQual'],axis = 1,inplace = True);\n",
    "\n",
    "# drop heating type\n",
    "features.drop('Heating',axis = 1,inplace = True);\n",
    "features.drop(['MoSold', 'YrSold'],axis = 1,inplace = True);\n",
    "\n",
    "\n",
    "featureList = {'ExterQual','ExterCond','BsmtQual','BsmtCond','PoolQC','HeatingQC','KitchenQual','GarageQual',\n",
    "               'GarageCond','FireplaceQu','PoolQC'};\n",
    "\n",
    "features = replaceQualVal(features,featureList)\n",
    "\n",
    "num_features = features.select_dtypes(exclude=['object']);\n",
    "\n",
    "# process GarageYrBlt\n",
    "empty = pd.isnull(num_features['GarageYrBlt']);\n",
    "ind = empty[empty == True].index;\n",
    "num_features.loc[ind.values,'GarageYrBlt'] = features.loc[ind.values,'YearBuilt'];\n",
    "\n",
    "# add new feature\n",
    "num_features.loc[:,'houseAgeLog'] = np.log(date.today().year - num_features.loc[:,'YearBuilt']);\n",
    "num_features.loc[:,'garageAgeLog'] = np.log(date.today().year - num_features.loc[:,'GarageYrBlt']);\n",
    "num_features.loc[:,'remodeAge'] = num_features.loc[:,'YearRemodAdd'] - num_features.loc[:,'YearBuilt'];\n",
    "num_features.fillna(0,inplace=True);\n",
    "\n",
    "obj_features = features.select_dtypes(include=['object']);\n",
    "obj_features.fillna('empty',inplace=True)\n",
    "encoded_data = encoder.fit_transform(obj_features.T.to_dict().values());\n",
    "transFeatures = np.hstack([num_features, encoded_data]);"
   ]
  },
  {
   "cell_type": "code",
   "execution_count": 86,
   "metadata": {
    "collapsed": false
   },
   "outputs": [],
   "source": [
    "trees = GBR(verbose = 0, n_estimators = 1000, max_depth = 3);\n",
    "\n",
    "nFolds = 7;\n",
    "folds = CV.KFold(price.size, n_folds=nFolds, random_state = 43);"
   ]
  },
  {
   "cell_type": "code",
   "execution_count": 87,
   "metadata": {
    "collapsed": false
   },
   "outputs": [
    {
     "name": "stdout",
     "output_type": "stream",
     "text": [
      "[ 0.89871343  0.12471121]\n"
     ]
    }
   ],
   "source": [
    "score = np.empty([1,2]);\n",
    "\n",
    "for [trainInds, testInds] in folds:\n",
    "    trees.fit(transFeatures[trainInds,:],price[trainInds]);\n",
    "    y_pr = trees.predict(transFeatures[testInds,:]);\n",
    "    score =  np.append(score,myScore(price[testInds],y_pr),axis = 0);\n",
    "\n",
    "score = np.delete(score,0,0);\n",
    "print score.mean(0)"
   ]
  },
  {
   "cell_type": "code",
   "execution_count": 15,
   "metadata": {
    "collapsed": false
   },
   "outputs": [
    {
     "name": "stdout",
     "output_type": "stream",
     "text": [
      "[ 0.89532533  0.12600869]\n"
     ]
    }
   ],
   "source": [
    "features = data.drop('SalePrice',axis = 1)\n",
    "price = data['SalePrice'].get_values()\n",
    "\n",
    "#features[\"OverallQualLog\"]=np.log(features[\"OverallQual\"])\n",
    "#features.drop(['OverallQual'],axis = 1,inplace = True);\n",
    "\n",
    "# drop heating type\n",
    "#features.drop('Heating',axis = 1,inplace = True);\n",
    "#features.drop(['MoSold', 'YrSold'],axis = 1,inplace = True);\n",
    "\n",
    "\n",
    "#featureList = {'ExterQual','ExterCond','BsmtQual','BsmtCond','PoolQC','HeatingQC','KitchenQual','GarageQual',\n",
    "#               'GarageCond','FireplaceQu','PoolQC'};\n",
    "\n",
    "#features = replaceQualVal(features,featureList)\n",
    "\n",
    "num_features = features.select_dtypes(exclude=['object']);\n",
    "\n",
    "# process GarageYrBlt\n",
    "empty = pd.isnull(num_features['GarageYrBlt']);\n",
    "ind = empty[empty == True].index;\n",
    "num_features.loc[ind.values,'GarageYrBlt'] = features.loc[ind.values,'YearBuilt'];\n",
    "\n",
    "# add new feature\n",
    "num_features.loc[:,'houseAgeLog'] = np.log(date.today().year - num_features.loc[:,'YearBuilt']);\n",
    "num_features.loc[:,'garageAgeLog'] = np.log(date.today().year - num_features.loc[:,'GarageYrBlt']);\n",
    "num_features.loc[:,'remodeAge'] = num_features.loc[:,'YearRemodAdd'] - num_features.loc[:,'YearBuilt'];\n",
    "num_features.fillna(0,inplace=True);\n",
    "\n",
    "obj_features = features.select_dtypes(include=['object']);\n",
    "obj_features.fillna('empty',inplace=True)\n",
    "encoded_data = encoder.fit_transform(obj_features.T.to_dict().values());\n",
    "transFeatures = np.hstack([num_features, encoded_data]);\n",
    "\n",
    "score = np.empty([1,2]);\n",
    "\n",
    "for [trainInds, testInds] in folds:\n",
    "    trees.fit(transFeatures[trainInds,:],price[trainInds]);\n",
    "    y_pr = trees.predict(transFeatures[testInds,:]);\n",
    "    score =  np.append(score,myScore(price[testInds],y_pr),axis = 0);\n",
    "\n",
    "score = np.delete(score,0,0);\n",
    "print score.mean(0)"
   ]
  },
  {
   "cell_type": "code",
   "execution_count": 16,
   "metadata": {
    "collapsed": false
   },
   "outputs": [
    {
     "name": "stdout",
     "output_type": "stream",
     "text": [
      "[ 0.89295458  0.12593607]\n"
     ]
    }
   ],
   "source": [
    "features = data.drop('SalePrice',axis = 1)\n",
    "price = data['SalePrice'].get_values()\n",
    "\n",
    "features[\"OverallQualLog\"]=np.log(features[\"OverallQual\"])\n",
    "features.drop(['OverallQual'],axis = 1,inplace = True);\n",
    "\n",
    "# drop heating type\n",
    "#features.drop('Heating',axis = 1,inplace = True);\n",
    "#features.drop(['MoSold', 'YrSold'],axis = 1,inplace = True);\n",
    "\n",
    "\n",
    "#featureList = {'ExterQual','ExterCond','BsmtQual','BsmtCond','PoolQC','HeatingQC','KitchenQual','GarageQual',\n",
    "#               'GarageCond','FireplaceQu','PoolQC'};\n",
    "\n",
    "#features = replaceQualVal(features,featureList)\n",
    "\n",
    "num_features = features.select_dtypes(exclude=['object']);\n",
    "\n",
    "# process GarageYrBlt\n",
    "empty = pd.isnull(num_features['GarageYrBlt']);\n",
    "ind = empty[empty == True].index;\n",
    "num_features.loc[ind.values,'GarageYrBlt'] = features.loc[ind.values,'YearBuilt'];\n",
    "\n",
    "# add new feature\n",
    "num_features.loc[:,'houseAgeLog'] = np.log(date.today().year - num_features.loc[:,'YearBuilt']);\n",
    "num_features.loc[:,'garageAgeLog'] = np.log(date.today().year - num_features.loc[:,'GarageYrBlt']);\n",
    "num_features.loc[:,'remodeAge'] = num_features.loc[:,'YearRemodAdd'] - num_features.loc[:,'YearBuilt'];\n",
    "num_features.fillna(0,inplace=True);\n",
    "\n",
    "obj_features = features.select_dtypes(include=['object']);\n",
    "obj_features.fillna('empty',inplace=True)\n",
    "encoded_data = encoder.fit_transform(obj_features.T.to_dict().values());\n",
    "transFeatures = np.hstack([num_features, encoded_data]);\n",
    "\n",
    "trees = GBR(verbose = 0, n_estimators = 1000, max_depth = 3);\n",
    "\n",
    "for [trainInds, testInds] in folds:\n",
    "    trees.fit(transFeatures[trainInds,:],price[trainInds]);\n",
    "    y_pr = trees.predict(transFeatures[testInds,:]);\n",
    "    score =  np.append(score,myScore(price[testInds],y_pr),axis = 0);\n",
    "\n",
    "score = np.delete(score,0,0);\n",
    "print score.mean(0)"
   ]
  },
  {
   "cell_type": "code",
   "execution_count": 24,
   "metadata": {
    "collapsed": false
   },
   "outputs": [
    {
     "name": "stdout",
     "output_type": "stream",
     "text": [
      "GarageCond\n",
      "BsmtCond\n",
      "HeatingQC\n",
      "GarageQual\n",
      "ExterCond\n",
      "ExterQual\n",
      "FireplaceQu\n",
      "KitchenQual\n",
      "BsmtQual\n",
      "PoolQC\n",
      "[ 0.8980913   0.12551593]\n"
     ]
    }
   ],
   "source": [
    "features = data.drop('SalePrice',axis = 1)\n",
    "price = data['SalePrice'].get_values()\n",
    "\n",
    "features[\"OverallQualLog\"]=np.log(features[\"OverallQual\"])\n",
    "features.drop(['OverallQual'],axis = 1,inplace = True);\n",
    "\n",
    "# drop heating type\n",
    "features.drop('Heating',axis = 1,inplace = True);\n",
    "#features.drop(['MoSold', 'YrSold'],axis = 1,inplace = True);\n",
    "\n",
    "\n",
    "featureList = {'ExterQual','ExterCond','BsmtQual','BsmtCond','PoolQC','HeatingQC','KitchenQual','GarageQual',\n",
    "               'GarageCond','FireplaceQu','PoolQC'};\n",
    "\n",
    "features = replaceQualVal(features,featureList)\n",
    "\n",
    "num_features = features.select_dtypes(exclude=['object']);\n",
    "\n",
    "# process GarageYrBlt\n",
    "empty = pd.isnull(num_features['GarageYrBlt']);\n",
    "ind = empty[empty == True].index;\n",
    "num_features.loc[ind.values,'GarageYrBlt'] = features.loc[ind.values,'YearBuilt'];\n",
    "\n",
    "# add new feature\n",
    "num_features.loc[:,'houseAgeLog'] = np.log(date.today().year - num_features.loc[:,'YearBuilt']);\n",
    "num_features.loc[:,'garageAgeLog'] = np.log(date.today().year - num_features.loc[:,'GarageYrBlt']);\n",
    "num_features.loc[:,'remodeAge'] = num_features.loc[:,'YearRemodAdd'] - num_features.loc[:,'YearBuilt'];\n",
    "num_features.fillna(0,inplace=True);\n",
    "\n",
    "obj_features = features.select_dtypes(include=['object']);\n",
    "obj_features.fillna('empty',inplace=True)\n",
    "encoded_data = encoder.fit_transform(obj_features.T.to_dict().values());\n",
    "transFeatures = np.hstack([num_features, encoded_data]);\n",
    "\n",
    "score = np.empty([1,2]);\n",
    "\n",
    "for [trainInds, testInds] in folds:\n",
    "    trees.fit(transFeatures[trainInds,:],price[trainInds]);\n",
    "    y_pr = trees.predict(transFeatures[testInds,:]);\n",
    "    score =  np.append(score,myScore(price[testInds],y_pr),axis = 0);\n",
    "\n",
    "score = np.delete(score,0,0);\n",
    "print score.mean(0)"
   ]
  },
  {
   "cell_type": "code",
   "execution_count": 84,
   "metadata": {
    "collapsed": false
   },
   "outputs": [
    {
     "name": "stdout",
     "output_type": "stream",
     "text": [
      "[ 0.89630042  0.12493057]\n"
     ]
    }
   ],
   "source": [
    "features = data.drop('SalePrice',axis = 1)\n",
    "price = data['SalePrice'].get_values()\n",
    "\n",
    "features[\"OverallQualLog\"]=np.log(features[\"OverallQual\"])\n",
    "features.drop(['OverallQual'],axis = 1,inplace = True);\n",
    "\n",
    "# drop heating type\n",
    "features.drop('Heating',axis = 1,inplace = True);\n",
    "#features.drop(['MoSold', 'YrSold'],axis = 1,inplace = True);\n",
    "features.drop(['PoolQC','PoolArea'],axis = 1,inplace = True);\n",
    "\n",
    "# replace qualitative values\n",
    "featureList = {'ExterQual','ExterCond','BsmtQual','BsmtCond','HeatingQC','KitchenQual','GarageQual',\n",
    "               'GarageCond','FireplaceQu'};\n",
    "#features = replaceQualVal(features,featureList);\n",
    "\n",
    "# replace Yes/No values\n",
    "#features = replaceYNVal(features, {'CentralAir'});\n",
    "\n",
    "\n",
    "numFeatureNames = features.select_dtypes(exclude=['object']).columns;\n",
    "numFeatureNames = numFeatureNames.drop({'MSSubClass'});\n",
    "num_features = features.loc[:,numFeatureNames];\n",
    "\n",
    "# process GarageYrBlt\n",
    "empty = pd.isnull(num_features['GarageYrBlt']);\n",
    "ind = empty[empty == True].index;\n",
    "num_features.loc[ind.values,'GarageYrBlt'] = features.loc[ind.values,'YearBuilt'];\n",
    "\n",
    "# add new feature\n",
    "num_features.loc[:,'houseAgeLog'] = np.log(date.today().year - num_features.loc[:,'YearBuilt']);\n",
    "num_features.loc[:,'garageAgeLog'] = np.log(date.today().year - num_features.loc[:,'GarageYrBlt']);\n",
    "num_features.loc[:,'remodeAge'] = num_features.loc[:,'YearRemodAdd'] - num_features.loc[:,'YearBuilt'];\n",
    "num_features.fillna(0,inplace=True);\n",
    "\n",
    "\n",
    "objFeatureNames = features.select_dtypes(include=['object']).columns; \n",
    "obj_features = features.loc[:,np.append(objFeatureNames.values, 'MSSubClass')]\n",
    "obj_features.fillna('empty',inplace=True)\n",
    "encoded_data = encoder.fit_transform(obj_features.T.to_dict().values());\n",
    "transFeatures = np.hstack([num_features, encoded_data]);\n",
    "\n",
    "score = np.empty([1,2]);\n",
    "\n",
    "for [trainInds, testInds] in folds:\n",
    "    trees.fit(transFeatures[trainInds,:],price[trainInds]);\n",
    "    y_pr = trees.predict(transFeatures[testInds,:]);\n",
    "    score =  np.append(score,myScore(price[testInds],y_pr),axis = 0);\n",
    "\n",
    "score = np.delete(score,0,0);\n",
    "print score.mean(0)"
   ]
  },
  {
   "cell_type": "code",
   "execution_count": null,
   "metadata": {
    "collapsed": true
   },
   "outputs": [],
   "source": []
  }
 ],
 "metadata": {
  "anaconda-cloud": {},
  "kernelspec": {
   "display_name": "Python [default]",
   "language": "python",
   "name": "python2"
  },
  "language_info": {
   "codemirror_mode": {
    "name": "ipython",
    "version": 2
   },
   "file_extension": ".py",
   "mimetype": "text/x-python",
   "name": "python",
   "nbconvert_exporter": "python",
   "pygments_lexer": "ipython2",
   "version": "2.7.12"
  }
 },
 "nbformat": 4,
 "nbformat_minor": 0
}
